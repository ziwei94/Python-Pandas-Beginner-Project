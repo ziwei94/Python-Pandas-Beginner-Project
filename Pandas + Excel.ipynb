{
 "cells": [
  {
   "cell_type": "code",
   "execution_count": 1,
   "outputs": [
    {
     "data": {
      "text/plain": "           Store  Employees    Manager      Since Flagship\n0       New York         10      Sarah 2018-07-20    False\n1  San Francisco         12     Neriah 2019-11-02  MISSING\n2        Chicago          4    Katelin 2020-01-31      NaN\n3         Boston          5  Georgiana 2017-04-01     True\n4  Washington DC          3       Evan        NaT    False\n5      Las Vegas         11       Paul 2020-01-06    False",
      "text/html": "<div>\n<style scoped>\n    .dataframe tbody tr th:only-of-type {\n        vertical-align: middle;\n    }\n\n    .dataframe tbody tr th {\n        vertical-align: top;\n    }\n\n    .dataframe thead th {\n        text-align: right;\n    }\n</style>\n<table border=\"1\" class=\"dataframe\">\n  <thead>\n    <tr style=\"text-align: right;\">\n      <th></th>\n      <th>Store</th>\n      <th>Employees</th>\n      <th>Manager</th>\n      <th>Since</th>\n      <th>Flagship</th>\n    </tr>\n  </thead>\n  <tbody>\n    <tr>\n      <th>0</th>\n      <td>New York</td>\n      <td>10</td>\n      <td>Sarah</td>\n      <td>2018-07-20</td>\n      <td>False</td>\n    </tr>\n    <tr>\n      <th>1</th>\n      <td>San Francisco</td>\n      <td>12</td>\n      <td>Neriah</td>\n      <td>2019-11-02</td>\n      <td>MISSING</td>\n    </tr>\n    <tr>\n      <th>2</th>\n      <td>Chicago</td>\n      <td>4</td>\n      <td>Katelin</td>\n      <td>2020-01-31</td>\n      <td>NaN</td>\n    </tr>\n    <tr>\n      <th>3</th>\n      <td>Boston</td>\n      <td>5</td>\n      <td>Georgiana</td>\n      <td>2017-04-01</td>\n      <td>True</td>\n    </tr>\n    <tr>\n      <th>4</th>\n      <td>Washington DC</td>\n      <td>3</td>\n      <td>Evan</td>\n      <td>NaT</td>\n      <td>False</td>\n    </tr>\n    <tr>\n      <th>5</th>\n      <td>Las Vegas</td>\n      <td>11</td>\n      <td>Paul</td>\n      <td>2020-01-06</td>\n      <td>False</td>\n    </tr>\n  </tbody>\n</table>\n</div>"
     },
     "execution_count": 1,
     "metadata": {},
     "output_type": "execute_result"
    }
   ],
   "source": [
    "import pandas as pd\n",
    "df = pd.read_excel(r\"D:\\python\\python-for-excel-1st-edition\\python-for-excel-1st-edition\\xl\\stores.xlsx\",\n",
    "                   sheet_name=\"2019\", skiprows=1, usecols=\"B:F\")\n",
    "df"
   ],
   "metadata": {
    "collapsed": false,
    "ExecuteTime": {
     "end_time": "2024-03-09T13:06:34.793621800Z",
     "start_time": "2024-03-09T13:06:34.010639900Z"
    }
   },
   "id": "f21cad1b2b6892fa"
  },
  {
   "cell_type": "code",
   "execution_count": 8,
   "outputs": [
    {
     "name": "stdout",
     "output_type": "stream",
     "text": [
      "<class 'pandas.core.frame.DataFrame'>\n",
      "RangeIndex: 6 entries, 0 to 5\n",
      "Data columns (total 5 columns):\n",
      " #   Column     Non-Null Count  Dtype         \n",
      "---  ------     --------------  -----         \n",
      " 0   Store      6 non-null      object        \n",
      " 1   Employees  6 non-null      int64         \n",
      " 2   Manager    6 non-null      object        \n",
      " 3   Since      5 non-null      datetime64[ns]\n",
      " 4   Flagship   5 non-null      object        \n",
      "dtypes: datetime64[ns](1), int64(1), object(3)\n",
      "memory usage: 372.0+ bytes\n"
     ]
    }
   ],
   "source": [
    "df.info()"
   ],
   "metadata": {
    "collapsed": false,
    "ExecuteTime": {
     "end_time": "2024-03-04T16:02:12.381640900Z",
     "start_time": "2024-03-04T16:02:12.355817200Z"
    }
   },
   "id": "878e0f204f45f49b"
  },
  {
   "cell_type": "code",
   "execution_count": 9,
   "outputs": [
    {
     "data": {
      "text/plain": "           Store  Employees    Manager      Since  Flagship\n0       New York         10      Sarah 2018-07-20     False\n1  San Francisco         12     Neriah 2019-11-02     False\n2        Chicago          4    Katelin 2020-01-31     False\n3         Boston          5  Georgiana 2017-04-01      True\n4  Washington DC          3       Evan        NaT     False\n5      Las Vegas         11       Paul 2020-01-06     False",
      "text/html": "<div>\n<style scoped>\n    .dataframe tbody tr th:only-of-type {\n        vertical-align: middle;\n    }\n\n    .dataframe tbody tr th {\n        vertical-align: top;\n    }\n\n    .dataframe thead th {\n        text-align: right;\n    }\n</style>\n<table border=\"1\" class=\"dataframe\">\n  <thead>\n    <tr style=\"text-align: right;\">\n      <th></th>\n      <th>Store</th>\n      <th>Employees</th>\n      <th>Manager</th>\n      <th>Since</th>\n      <th>Flagship</th>\n    </tr>\n  </thead>\n  <tbody>\n    <tr>\n      <th>0</th>\n      <td>New York</td>\n      <td>10</td>\n      <td>Sarah</td>\n      <td>2018-07-20</td>\n      <td>False</td>\n    </tr>\n    <tr>\n      <th>1</th>\n      <td>San Francisco</td>\n      <td>12</td>\n      <td>Neriah</td>\n      <td>2019-11-02</td>\n      <td>False</td>\n    </tr>\n    <tr>\n      <th>2</th>\n      <td>Chicago</td>\n      <td>4</td>\n      <td>Katelin</td>\n      <td>2020-01-31</td>\n      <td>False</td>\n    </tr>\n    <tr>\n      <th>3</th>\n      <td>Boston</td>\n      <td>5</td>\n      <td>Georgiana</td>\n      <td>2017-04-01</td>\n      <td>True</td>\n    </tr>\n    <tr>\n      <th>4</th>\n      <td>Washington DC</td>\n      <td>3</td>\n      <td>Evan</td>\n      <td>NaT</td>\n      <td>False</td>\n    </tr>\n    <tr>\n      <th>5</th>\n      <td>Las Vegas</td>\n      <td>11</td>\n      <td>Paul</td>\n      <td>2020-01-06</td>\n      <td>False</td>\n    </tr>\n  </tbody>\n</table>\n</div>"
     },
     "execution_count": 9,
     "metadata": {},
     "output_type": "execute_result"
    }
   ],
   "source": [
    "fix_missing = lambda x: False if x in [\"\", \"MISSING\"] else x\n",
    "df = pd.read_excel(r\"D:\\python\\python-for-excel-1st-edition\\python-for-excel-1st-edition\\xl\\stores.xlsx\",\n",
    "                   sheet_name=\"2019\", skiprows=1, usecols=\"B:F\",\n",
    "                   converters={\"Flagship\": fix_missing})\n",
    "df"
   ],
   "metadata": {
    "collapsed": false,
    "ExecuteTime": {
     "end_time": "2024-03-04T16:02:12.519576700Z",
     "start_time": "2024-03-04T16:02:12.372083100Z"
    }
   },
   "id": "aa3d6112c99d7277"
  },
  {
   "cell_type": "code",
   "execution_count": 10,
   "outputs": [
    {
     "name": "stdout",
     "output_type": "stream",
     "text": [
      "<class 'pandas.core.frame.DataFrame'>\n",
      "RangeIndex: 6 entries, 0 to 5\n",
      "Data columns (total 5 columns):\n",
      " #   Column     Non-Null Count  Dtype         \n",
      "---  ------     --------------  -----         \n",
      " 0   Store      6 non-null      object        \n",
      " 1   Employees  6 non-null      int64         \n",
      " 2   Manager    6 non-null      object        \n",
      " 3   Since      5 non-null      datetime64[ns]\n",
      " 4   Flagship   6 non-null      bool          \n",
      "dtypes: bool(1), datetime64[ns](1), int64(1), object(2)\n",
      "memory usage: 330.0+ bytes\n"
     ]
    }
   ],
   "source": [
    "df.info()"
   ],
   "metadata": {
    "collapsed": false,
    "ExecuteTime": {
     "end_time": "2024-03-04T16:02:12.582255200Z",
     "start_time": "2024-03-04T16:02:12.393195800Z"
    }
   },
   "id": "ad04d8645198278b"
  },
  {
   "cell_type": "code",
   "execution_count": 11,
   "outputs": [
    {
     "data": {
      "text/plain": "{'2019':            Store  Employees\n 0       New York         10\n 1  San Francisco         12\n 2        Chicago          4\n 3         Boston          5\n 4  Washington DC          3\n 5      Las Vegas         11,\n '2020':            Store  Employees\n 0       New York         11\n 1  San Francisco         10\n 2        Chicago          5\n 3         Boston          4\n 4  Washington DC          7\n 5      Las Vegas          8}"
     },
     "execution_count": 11,
     "metadata": {},
     "output_type": "execute_result"
    }
   ],
   "source": [
    "sheets = pd.read_excel(r\"D:\\python\\python-for-excel-1st-edition\\python-for-excel-1st-edition\\xl\\stores.xlsx\",\n",
    "                       sheet_name=[\"2019\", \"2020\"],\n",
    "                       skiprows=1,usecols=[\"Store\", \"Employees\"])\n",
    "sheets"
   ],
   "metadata": {
    "collapsed": false,
    "ExecuteTime": {
     "end_time": "2024-03-04T16:02:12.585889600Z",
     "start_time": "2024-03-04T16:02:12.401646400Z"
    }
   },
   "id": "471b825b7bcba060"
  },
  {
   "cell_type": "code",
   "execution_count": 12,
   "outputs": [
    {
     "data": {
      "text/plain": "           Store  Employees\n0       New York         10\n1  San Francisco         12\n2        Chicago          4\n3         Boston          5\n4  Washington DC          3\n5      Las Vegas         11",
      "text/html": "<div>\n<style scoped>\n    .dataframe tbody tr th:only-of-type {\n        vertical-align: middle;\n    }\n\n    .dataframe tbody tr th {\n        vertical-align: top;\n    }\n\n    .dataframe thead th {\n        text-align: right;\n    }\n</style>\n<table border=\"1\" class=\"dataframe\">\n  <thead>\n    <tr style=\"text-align: right;\">\n      <th></th>\n      <th>Store</th>\n      <th>Employees</th>\n    </tr>\n  </thead>\n  <tbody>\n    <tr>\n      <th>0</th>\n      <td>New York</td>\n      <td>10</td>\n    </tr>\n    <tr>\n      <th>1</th>\n      <td>San Francisco</td>\n      <td>12</td>\n    </tr>\n    <tr>\n      <th>2</th>\n      <td>Chicago</td>\n      <td>4</td>\n    </tr>\n    <tr>\n      <th>3</th>\n      <td>Boston</td>\n      <td>5</td>\n    </tr>\n    <tr>\n      <th>4</th>\n      <td>Washington DC</td>\n      <td>3</td>\n    </tr>\n    <tr>\n      <th>5</th>\n      <td>Las Vegas</td>\n      <td>11</td>\n    </tr>\n  </tbody>\n</table>\n</div>"
     },
     "execution_count": 12,
     "metadata": {},
     "output_type": "execute_result"
    }
   ],
   "source": [
    "sheets[\"2019\"]"
   ],
   "metadata": {
    "collapsed": false,
    "ExecuteTime": {
     "end_time": "2024-03-04T16:02:12.586392500Z",
     "start_time": "2024-03-04T16:02:12.439668500Z"
    }
   },
   "id": "ac09ccd569186622"
  },
  {
   "cell_type": "code",
   "execution_count": 13,
   "outputs": [
    {
     "data": {
      "text/plain": "          Branch  Employee_Count Is_Flagship\n0       New York              10       False\n1  San Francisco              12     MISSING\n2        Chicago               4         NaN",
      "text/html": "<div>\n<style scoped>\n    .dataframe tbody tr th:only-of-type {\n        vertical-align: middle;\n    }\n\n    .dataframe tbody tr th {\n        vertical-align: top;\n    }\n\n    .dataframe thead th {\n        text-align: right;\n    }\n</style>\n<table border=\"1\" class=\"dataframe\">\n  <thead>\n    <tr style=\"text-align: right;\">\n      <th></th>\n      <th>Branch</th>\n      <th>Employee_Count</th>\n      <th>Is_Flagship</th>\n    </tr>\n  </thead>\n  <tbody>\n    <tr>\n      <th>0</th>\n      <td>New York</td>\n      <td>10</td>\n      <td>False</td>\n    </tr>\n    <tr>\n      <th>1</th>\n      <td>San Francisco</td>\n      <td>12</td>\n      <td>MISSING</td>\n    </tr>\n    <tr>\n      <th>2</th>\n      <td>Chicago</td>\n      <td>4</td>\n      <td>NaN</td>\n    </tr>\n  </tbody>\n</table>\n</div>"
     },
     "execution_count": 13,
     "metadata": {},
     "output_type": "execute_result"
    }
   ],
   "source": [
    "df = pd.read_excel(r\"D:\\python\\python-for-excel-1st-edition\\python-for-excel-1st-edition\\xl\\stores.xlsx\",\n",
    "                   sheet_name=0, skiprows=2, skipfooter=3, #skipfooter 跳过表格底部的3行\n",
    "                   usecols=\"B:C,F\", header=None,\n",
    "                   names=[\"Branch\", \"Employee_Count\", \"Is_Flagship\"])\n",
    "df"
   ],
   "metadata": {
    "collapsed": false,
    "ExecuteTime": {
     "end_time": "2024-03-04T16:02:12.708697700Z",
     "start_time": "2024-03-04T16:02:12.535217200Z"
    }
   },
   "id": "db45e33135544400"
  },
  {
   "cell_type": "code",
   "execution_count": 14,
   "outputs": [
    {
     "data": {
      "text/plain": "               1          2         5\n0          Store  Employees  Flagship\n1       New York         10     False\n2  San Francisco         12       NaN\n3        Chicago          4          \n4         Boston          5      True",
      "text/html": "<div>\n<style scoped>\n    .dataframe tbody tr th:only-of-type {\n        vertical-align: middle;\n    }\n\n    .dataframe tbody tr th {\n        vertical-align: top;\n    }\n\n    .dataframe thead th {\n        text-align: right;\n    }\n</style>\n<table border=\"1\" class=\"dataframe\">\n  <thead>\n    <tr style=\"text-align: right;\">\n      <th></th>\n      <th>1</th>\n      <th>2</th>\n      <th>5</th>\n    </tr>\n  </thead>\n  <tbody>\n    <tr>\n      <th>0</th>\n      <td>Store</td>\n      <td>Employees</td>\n      <td>Flagship</td>\n    </tr>\n    <tr>\n      <th>1</th>\n      <td>New York</td>\n      <td>10</td>\n      <td>False</td>\n    </tr>\n    <tr>\n      <th>2</th>\n      <td>San Francisco</td>\n      <td>12</td>\n      <td>NaN</td>\n    </tr>\n    <tr>\n      <th>3</th>\n      <td>Chicago</td>\n      <td>4</td>\n      <td></td>\n    </tr>\n    <tr>\n      <th>4</th>\n      <td>Boston</td>\n      <td>5</td>\n      <td>True</td>\n    </tr>\n  </tbody>\n</table>\n</div>"
     },
     "execution_count": 14,
     "metadata": {},
     "output_type": "execute_result"
    }
   ],
   "source": [
    "df = pd.read_excel(r\"D:\\python\\python-for-excel-1st-edition\\python-for-excel-1st-edition\\xl\\stores.xlsx\",\n",
    "                   sheet_name=\"2019\", skiprows=1, skipfooter=2, #skipfooter 跳过表格底部的3行\n",
    "                   usecols=\"B:C,F\", header=None,\n",
    "                   na_values=\"MISSING\", keep_default_na=False) #将默认空值设置为否，则默认空值不显示为NaN，而显示空白\n",
    "df"
   ],
   "metadata": {
    "collapsed": false,
    "ExecuteTime": {
     "end_time": "2024-03-04T16:02:12.898390500Z",
     "start_time": "2024-03-04T16:02:12.645333600Z"
    }
   },
   "id": "35427582d00cf67e"
  },
  {
   "cell_type": "code",
   "execution_count": 15,
   "outputs": [],
   "source": [
    "with open(\"output.txt\", \"w\") as f:  #这里的'w'是写入模式；此外还有'a',末尾追加内容模式；'r',读取模式\n",
    "    f.write(\"Some text\")"
   ],
   "metadata": {
    "collapsed": false,
    "ExecuteTime": {
     "end_time": "2024-03-04T16:02:12.978588800Z",
     "start_time": "2024-03-04T16:02:12.778674500Z"
    }
   },
   "id": "4c845f9c473a10f4"
  },
  {
   "cell_type": "code",
   "execution_count": 9,
   "outputs": [
    {
     "data": {
      "text/plain": "           Store  Employees Manager      Since Flagship\n0       New York         10   Sarah 2018-07-20    False\n1  San Francisco         12  Neriah 2019-11-02  MISSING",
      "text/html": "<div>\n<style scoped>\n    .dataframe tbody tr th:only-of-type {\n        vertical-align: middle;\n    }\n\n    .dataframe tbody tr th {\n        vertical-align: top;\n    }\n\n    .dataframe thead th {\n        text-align: right;\n    }\n</style>\n<table border=\"1\" class=\"dataframe\">\n  <thead>\n    <tr style=\"text-align: right;\">\n      <th></th>\n      <th>Store</th>\n      <th>Employees</th>\n      <th>Manager</th>\n      <th>Since</th>\n      <th>Flagship</th>\n    </tr>\n  </thead>\n  <tbody>\n    <tr>\n      <th>0</th>\n      <td>New York</td>\n      <td>10</td>\n      <td>Sarah</td>\n      <td>2018-07-20</td>\n      <td>False</td>\n    </tr>\n    <tr>\n      <th>1</th>\n      <td>San Francisco</td>\n      <td>12</td>\n      <td>Neriah</td>\n      <td>2019-11-02</td>\n      <td>MISSING</td>\n    </tr>\n  </tbody>\n</table>\n</div>"
     },
     "execution_count": 9,
     "metadata": {},
     "output_type": "execute_result"
    }
   ],
   "source": [
    "with pd.ExcelFile(\"D:/python/python-for-excel-1st-edition/python-for-excel-1st-edition/xl/stores.xls\") as f: #指定文件路径\n",
    "    df1 = pd.read_excel(f, \"2019\", skiprows=1, usecols=\"B:F\", nrows=2)\n",
    "    df2 = pd.read_excel(f, \"2020\", skiprows=1, usecols=\"B:F\", nrows=2)\n",
    "df1"
   ],
   "metadata": {
    "collapsed": false,
    "ExecuteTime": {
     "end_time": "2024-03-05T14:18:17.515895600Z",
     "start_time": "2024-03-05T14:18:17.490425Z"
    }
   },
   "id": "8779daf6bdb71709"
  },
  {
   "cell_type": "code",
   "execution_count": 10,
   "outputs": [
    {
     "data": {
      "text/plain": "['2019', '2020', '2019-2020']"
     },
     "execution_count": 10,
     "metadata": {},
     "output_type": "execute_result"
    }
   ],
   "source": [
    "stores = pd.ExcelFile(\"D:/python/python-for-excel-1st-edition/python-for-excel-1st-edition/xl/stores.xls\")\n",
    "stores.sheet_names"
   ],
   "metadata": {
    "collapsed": false,
    "ExecuteTime": {
     "end_time": "2024-03-05T14:18:22.240600600Z",
     "start_time": "2024-03-05T14:18:22.227035800Z"
    }
   },
   "id": "14607dc5f7db05ef"
  },
  {
   "cell_type": "code",
   "execution_count": 18,
   "outputs": [],
   "source": [
    "import numpy as np\n",
    "import datetime as dt"
   ],
   "metadata": {
    "collapsed": false,
    "ExecuteTime": {
     "end_time": "2024-03-04T16:02:13.375726100Z",
     "start_time": "2024-03-04T16:02:13.168519500Z"
    }
   },
   "id": "8500df63350485fa"
  },
  {
   "cell_type": "code",
   "execution_count": 19,
   "outputs": [
    {
     "data": {
      "text/plain": "                    Dates  Floats  Integers  Booleans\nIndex                                                \n0     2020-01-01 10:13:00   2.222         1      True\n1     2020-01-02 00:00:00     NaN         2     False\n2     2020-01-02 00:00:00     inf         3      True",
      "text/html": "<div>\n<style scoped>\n    .dataframe tbody tr th:only-of-type {\n        vertical-align: middle;\n    }\n\n    .dataframe tbody tr th {\n        vertical-align: top;\n    }\n\n    .dataframe thead th {\n        text-align: right;\n    }\n</style>\n<table border=\"1\" class=\"dataframe\">\n  <thead>\n    <tr style=\"text-align: right;\">\n      <th></th>\n      <th>Dates</th>\n      <th>Floats</th>\n      <th>Integers</th>\n      <th>Booleans</th>\n    </tr>\n    <tr>\n      <th>Index</th>\n      <th></th>\n      <th></th>\n      <th></th>\n      <th></th>\n    </tr>\n  </thead>\n  <tbody>\n    <tr>\n      <th>0</th>\n      <td>2020-01-01 10:13:00</td>\n      <td>2.222</td>\n      <td>1</td>\n      <td>True</td>\n    </tr>\n    <tr>\n      <th>1</th>\n      <td>2020-01-02 00:00:00</td>\n      <td>NaN</td>\n      <td>2</td>\n      <td>False</td>\n    </tr>\n    <tr>\n      <th>2</th>\n      <td>2020-01-02 00:00:00</td>\n      <td>inf</td>\n      <td>3</td>\n      <td>True</td>\n    </tr>\n  </tbody>\n</table>\n</div>"
     },
     "execution_count": 19,
     "metadata": {},
     "output_type": "execute_result"
    }
   ],
   "source": [
    "data = [[dt.datetime(2020,1,1, 10, 13), 2.222, 1, True],\n",
    "        [dt.datetime(2020,1,2), np.nan, 2, False],\n",
    "        [dt.datetime(2020,1,2), np.inf, 3, True]]\n",
    "df = pd.DataFrame(data=data,\n",
    "                  columns=[\"Dates\", \"Floats\", \"Integers\", \"Booleans\"])\n",
    "df.index.name=\"Index\"\n",
    "df"
   ],
   "metadata": {
    "collapsed": false,
    "ExecuteTime": {
     "end_time": "2024-03-04T16:02:13.452955300Z",
     "start_time": "2024-03-04T16:02:13.329191500Z"
    }
   },
   "id": "40ab49e59ef20d8d"
  },
  {
   "cell_type": "code",
   "execution_count": 20,
   "outputs": [],
   "source": [
    "df.to_excel(\"written_with_pandas.xlsx\", sheet_name=\"Output\",\n",
    "            startrow=1, startcol=1, index=True, header=True,\n",
    "            na_rep=\"<NA>\", inf_rep=\"<INF>\")"
   ],
   "metadata": {
    "collapsed": false,
    "ExecuteTime": {
     "end_time": "2024-03-04T16:02:13.627999500Z",
     "start_time": "2024-03-04T16:02:13.521615700Z"
    }
   },
   "id": "22f280ca9299108e"
  },
  {
   "cell_type": "code",
   "execution_count": 24,
   "outputs": [],
   "source": [
    "with pd.ExcelWriter(\"written_with_pandas2.xlsx\") as writer:\n",
    "    df.to_excel(writer, sheet_name=\"Sheet1\", startrow=1, startcol=1)#startrow=1 从excel的第二行写入数据;startcol=1则是从第二列写入数据\n",
    "    df.to_excel(writer, sheet_name=\"Sheet1\", startrow=10, startcol=1)\n",
    "    df.to_excel(writer, sheet_name=\"Sheet2\")"
   ],
   "metadata": {
    "collapsed": false,
    "ExecuteTime": {
     "end_time": "2024-03-04T16:09:24.895920100Z",
     "start_time": "2024-03-04T16:09:24.877784700Z"
    }
   },
   "id": "78102328fd81245"
  },
  {
   "cell_type": "markdown",
   "source": [
    "## 读写excel包"
   ],
   "metadata": {
    "collapsed": false
   },
   "id": "664affb76e3170cb"
  },
  {
   "cell_type": "code",
   "execution_count": 22,
   "outputs": [
    {
     "ename": "NameError",
     "evalue": "name 'sheet_object' is not defined",
     "output_type": "error",
     "traceback": [
      "\u001B[1;31m---------------------------------------------------------------------------\u001B[0m",
      "\u001B[1;31mNameError\u001B[0m                                 Traceback (most recent call last)",
      "Cell \u001B[1;32mIn[22], line 2\u001B[0m\n\u001B[0;32m      1\u001B[0m \u001B[38;5;28;01mfrom\u001B[39;00m \u001B[38;5;21;01mmypackage\u001B[39;00m \u001B[38;5;28;01mimport\u001B[39;00m excel\n\u001B[1;32m----> 2\u001B[0m values \u001B[38;5;241m=\u001B[39m excel\u001B[38;5;241m.\u001B[39mread(sheet_object, first_cell\u001B[38;5;241m=\u001B[39m\u001B[38;5;124m\"\u001B[39m\u001B[38;5;124mA1\u001B[39m\u001B[38;5;124m\"\u001B[39m, last_cell\u001B[38;5;241m=\u001B[39m\u001B[38;5;28;01mNone\u001B[39;00m)\n\u001B[0;32m      3\u001B[0m excel\u001B[38;5;241m.\u001B[39mwrite(sheet_object, values, first_cell\u001B[38;5;241m=\u001B[39m\u001B[38;5;124m\"\u001B[39m\u001B[38;5;124mA1\u001B[39m\u001B[38;5;124m\"\u001B[39m)\n",
      "\u001B[1;31mNameError\u001B[0m: name 'sheet_object' is not defined"
     ]
    }
   ],
   "source": [
    "from mypackage import excel\n",
    "values = excel.read(sheet_object, first_cell=\"A1\", last_cell=None) #shee_object指定读取的工作表名，first_cell指定读取的第一个单元格，last_cell=None意思为读到表格中最后一个非空的单元格\n",
    "excel.write(sheet_object, values, first_cell=\"A1\")"
   ],
   "metadata": {
    "collapsed": false,
    "ExecuteTime": {
     "end_time": "2024-03-04T16:02:15.412053100Z",
     "start_time": "2024-03-04T16:02:15.268412900Z"
    }
   },
   "id": "3424814cbf65311f"
  },
  {
   "cell_type": "markdown",
   "source": [
    "## OpenPyXL"
   ],
   "metadata": {
    "collapsed": false
   },
   "id": "28cb956c9ef2d7e0"
  },
  {
   "cell_type": "code",
   "execution_count": 26,
   "outputs": [],
   "source": [
    "import pandas as pd \n",
    "import openpyxl\n",
    "from mypackage import excel\n",
    "import datetime as dt"
   ],
   "metadata": {
    "collapsed": false,
    "ExecuteTime": {
     "end_time": "2024-03-04T16:11:37.299591600Z",
     "start_time": "2024-03-04T16:11:37.296340300Z"
    }
   },
   "id": "4e9f612b78e9cfeb"
  },
  {
   "cell_type": "code",
   "execution_count": 28,
   "outputs": [],
   "source": [
    "book = openpyxl.load_workbook(\"D:/python/python-for-excel-1st-edition/python-for-excel-1st-edition/xl/stores.xlsx\", \n",
    "                              data_only=True)"
   ],
   "metadata": {
    "collapsed": false,
    "ExecuteTime": {
     "end_time": "2024-03-04T16:12:40.371986100Z",
     "start_time": "2024-03-04T16:12:40.358884500Z"
    }
   },
   "id": "84e7bcd3d63c6fb"
  },
  {
   "cell_type": "code",
   "execution_count": 29,
   "outputs": [
    {
     "data": {
      "text/plain": "<Worksheet \"2019\">"
     },
     "execution_count": 29,
     "metadata": {},
     "output_type": "execute_result"
    }
   ],
   "source": [
    "sheet = book[\"2019\"]\n",
    "sheet = book.worksheets[0]\n",
    "sheet"
   ],
   "metadata": {
    "collapsed": false,
    "ExecuteTime": {
     "end_time": "2024-03-04T16:12:41.949358300Z",
     "start_time": "2024-03-04T16:12:41.933552200Z"
    }
   },
   "id": "1eeb37dee5c3806b"
  },
  {
   "cell_type": "code",
   "execution_count": 30,
   "outputs": [
    {
     "data": {
      "text/plain": "['2019', '2020', '2019-2020']"
     },
     "execution_count": 30,
     "metadata": {},
     "output_type": "execute_result"
    }
   ],
   "source": [
    "book.sheetnames"
   ],
   "metadata": {
    "collapsed": false,
    "ExecuteTime": {
     "end_time": "2024-03-04T16:12:44.407349700Z",
     "start_time": "2024-03-04T16:12:44.392245100Z"
    }
   },
   "id": "f5b0f4ba7b993fbb"
  },
  {
   "cell_type": "code",
   "execution_count": 19,
   "outputs": [
    {
     "name": "stdout",
     "output_type": "stream",
     "text": [
      "2019\n",
      "2020\n",
      "2019-2020\n"
     ]
    }
   ],
   "source": [
    "for i in book.worksheets:\n",
    "    print(i.title)   #遍历stores表格中所有的sheet"
   ],
   "metadata": {
    "collapsed": false,
    "ExecuteTime": {
     "end_time": "2024-02-09T07:16:53.244420700Z",
     "start_time": "2024-02-09T07:16:53.238380600Z"
    }
   },
   "id": "dbb802977aeb5283"
  },
  {
   "cell_type": "code",
   "execution_count": 20,
   "outputs": [
    {
     "data": {
      "text/plain": "(8, 6)"
     },
     "execution_count": 20,
     "metadata": {},
     "output_type": "execute_result"
    }
   ],
   "source": [
    "sheet.max_row, sheet.max_column"
   ],
   "metadata": {
    "collapsed": false,
    "ExecuteTime": {
     "end_time": "2024-02-09T07:16:53.741163300Z",
     "start_time": "2024-02-09T07:16:53.717367800Z"
    }
   },
   "id": "8f6fba6cd63d42ee"
  },
  {
   "cell_type": "code",
   "execution_count": 21,
   "outputs": [
    {
     "data": {
      "text/plain": "'Boston'"
     },
     "execution_count": 21,
     "metadata": {},
     "output_type": "execute_result"
    }
   ],
   "source": [
    "sheet[\"B6\"].value"
   ],
   "metadata": {
    "collapsed": false,
    "ExecuteTime": {
     "end_time": "2024-02-09T07:16:54.273385100Z",
     "start_time": "2024-02-09T07:16:54.266108Z"
    }
   },
   "id": "950b2a6355dcc7a4"
  },
  {
   "cell_type": "code",
   "execution_count": 22,
   "outputs": [
    {
     "data": {
      "text/plain": "'Boston'"
     },
     "execution_count": 22,
     "metadata": {},
     "output_type": "execute_result"
    }
   ],
   "source": [
    "sheet.cell(row=6, column=2).value #此处的row的数字从1开始，openpyxl不一样的地方"
   ],
   "metadata": {
    "collapsed": false,
    "ExecuteTime": {
     "end_time": "2024-02-09T07:16:54.843540700Z",
     "start_time": "2024-02-09T07:16:54.818695300Z"
    }
   },
   "id": "22d58a594ca78b9c"
  },
  {
   "cell_type": "code",
   "execution_count": 31,
   "outputs": [
    {
     "data": {
      "text/plain": "[['Store', 'Employees', 'Manager', 'Since', 'Flagship'],\n ['New York', 10, 'Sarah', datetime.datetime(2018, 7, 20, 0, 0), False]]"
     },
     "execution_count": 31,
     "metadata": {},
     "output_type": "execute_result"
    }
   ],
   "source": [
    "data = excel.read(book[\"2019\"],(2, 2), (8, 6))\n",
    "data[:2]"
   ],
   "metadata": {
    "collapsed": false,
    "ExecuteTime": {
     "end_time": "2024-03-04T16:14:54.847941Z",
     "start_time": "2024-03-04T16:14:54.814213500Z"
    }
   },
   "id": "a2f495e13660dbcf"
  },
  {
   "cell_type": "markdown",
   "source": [
    "## 使用OpenPyXL写入、编辑文件"
   ],
   "metadata": {
    "collapsed": false
   },
   "id": "772bda4643807b22"
  },
  {
   "cell_type": "code",
   "execution_count": 34,
   "outputs": [],
   "source": [
    "import openpyxl\n",
    "from openpyxl.drawing.image import Image\n",
    "from openpyxl.chart import BarChart, Reference\n",
    "from openpyxl.styles import Font, colors\n",
    "from openpyxl.styles.borders import Border, Side\n",
    "from openpyxl.styles.alignment import Alignment\n",
    "from openpyxl.styles.fills import PatternFill\n",
    "from mypackage import excel"
   ],
   "metadata": {
    "collapsed": false,
    "ExecuteTime": {
     "end_time": "2024-03-04T16:17:46.601574500Z",
     "start_time": "2024-03-04T16:17:46.582287400Z"
    }
   },
   "id": "239015081f6b3b50"
  },
  {
   "cell_type": "code",
   "execution_count": 36,
   "outputs": [],
   "source": [
    "# 实例化工作簿\n",
    "    #book = openpyxl.Workbook()\n",
    "\n",
    "#创建第一工作表并赋予名字\n",
    "    #sheet = book.active\n",
    "    #sheet.title = \"Sheet1\"\n",
    "\n",
    "#读取后缀为xlsm的文件\n",
    "book = openpyxl.load_workbook(\"D:/python/python-for-excel-1st-edition/python-for-excel-1st-edition/xl/macro.xlsm\",keep_vba=True)\n",
    "book[\"Sheet1\"][\"A1\"].value = \"Click the button!\"\n",
    "#指定文件的保存路径\n",
    "file_path = \"D:/python/python-for-excel-1st-edition/python-for-excel-1st-edition/xl/macro_openpyxl.xlsm\"\n",
    "book.save(file_path)"
   ],
   "metadata": {
    "collapsed": false,
    "ExecuteTime": {
     "end_time": "2024-03-04T16:42:47.026571800Z",
     "start_time": "2024-03-04T16:42:47.010199400Z"
    }
   },
   "id": "a9cdd70d9ea54b31"
  },
  {
   "cell_type": "markdown",
   "source": [
    "## 使用OpenPyXL写入文件"
   ],
   "metadata": {
    "collapsed": false
   },
   "id": "d784eac68d5ee5bf"
  },
  {
   "cell_type": "code",
   "execution_count": 41,
   "outputs": [],
   "source": [
    "book = openpyxl.Workbook(write_only=True)\n",
    "sheet = book.create_sheet()\n",
    "for row in range(1000):\n",
    "    sheet.append(list(range(200)))\n",
    "book.save(\"openpyxl.optimized.xlsx\")"
   ],
   "metadata": {
    "collapsed": false,
    "ExecuteTime": {
     "end_time": "2024-03-04T17:41:20.462578700Z",
     "start_time": "2024-03-04T17:41:19.178922500Z"
    }
   },
   "id": "b134cdc2764c3d77"
  },
  {
   "cell_type": "code",
   "execution_count": 2,
   "outputs": [],
   "source": [
    "from mypackage import parallel_pandas"
   ],
   "metadata": {
    "collapsed": false,
    "ExecuteTime": {
     "end_time": "2024-03-05T13:58:27.174298600Z",
     "start_time": "2024-03-05T13:58:25.683629700Z"
    }
   },
   "id": "582e1f869dc45dcd"
  },
  {
   "cell_type": "markdown",
   "source": [
    "## 第三方包并行pandas的执行公式"
   ],
   "metadata": {
    "collapsed": false
   },
   "id": "347c108c9fa49176"
  },
  {
   "cell_type": "code",
   "execution_count": 4,
   "outputs": [],
   "source": [
    "# from mypackage import parallel_pandas\n",
    "# parallel_pandas.read_excel(filename, sheet_name=None)"
   ],
   "metadata": {
    "collapsed": false,
    "ExecuteTime": {
     "end_time": "2024-03-05T13:59:42.863071Z",
     "start_time": "2024-03-05T13:59:42.825247100Z"
    }
   },
   "id": "6da77f7b41fde658"
  },
  {
   "cell_type": "markdown",
   "source": [
    "## 并行读取excel"
   ],
   "metadata": {
    "collapsed": false
   },
   "id": "4e357f1dad53c523"
  },
  {
   "cell_type": "code",
   "execution_count": 11,
   "outputs": [
    {
     "name": "stdout",
     "output_type": "stream",
     "text": [
      "CPU times: total: 31.7 s\n",
      "Wall time: 39.1 s\n"
     ]
    }
   ],
   "source": [
    "%%time\n",
    "data = pd.read_excel(r\"D:\\python\\python-for-excel-1st-edition\\python-for-excel-1st-edition\\xl\\big.xlsx\",\n",
    "                     sheet_name=None,engine=\"openpyxl\")"
   ],
   "metadata": {
    "collapsed": false,
    "ExecuteTime": {
     "end_time": "2024-03-05T14:19:08.072537700Z",
     "start_time": "2024-03-05T14:18:28.959860600Z"
    }
   },
   "id": "e03e1eebdfd31f52"
  },
  {
   "cell_type": "code",
   "execution_count": 2,
   "outputs": [
    {
     "name": "stdout",
     "output_type": "stream",
     "text": [
      "CPU times: total: 93.8 ms\n",
      "Wall time: 11.8 s\n"
     ]
    }
   ],
   "source": [
    "%%time\n",
    "from mypackage import parallel_pandas\n",
    "data = parallel_pandas.read_excel(r\"D:\\python\\python-for-excel-1st-edition\\python-for-excel-1st-edition\\xl\\big.xlsx\",\n",
    "                     sheet_name=None)"
   ],
   "metadata": {
    "collapsed": false,
    "ExecuteTime": {
     "end_time": "2024-03-05T14:21:40.748599900Z",
     "start_time": "2024-03-05T14:21:28.965468800Z"
    }
   },
   "id": "5fa38fee38983fe1"
  },
  {
   "cell_type": "code",
   "execution_count": 9,
   "outputs": [
    {
     "data": {
      "text/plain": "      col1  col2  col3  col4  col5  col6  col7  col8  col9  col10  ...  \\\n0        1     1     2     3     4     5     6     7     8      9  ...   \n1        0     1     2     3     4     5     6     7     8      9  ...   \n2        0     1     2     3     4     5     6     7     8      9  ...   \n3        0     1     2     3     4     5     6     7     8      9  ...   \n4        0     1     2     3     4     5     6     7     8      9  ...   \n...    ...   ...   ...   ...   ...   ...   ...   ...   ...    ...  ...   \n4994     0     1     2     3     4     5     6     7     8      9  ...   \n4995     0     1     2     3     4     5     6     7     8      9  ...   \n4996     0     1     2     3     4     5     6     7     8      9  ...   \n4997     0     1     2     3     4     5     6     7     8      9  ...   \n4998     0     1     2     3     4     5     6     7     8      9  ...   \n\n      col191  col192  col193  col194  col195  col196  col197  col198  col199  \\\n0        190     191     192     193     194     195     196     197     198   \n1        190     191     192     193     194     195     196     197     198   \n2        190     191     192     193     194     195     196     197     198   \n3        190     191     192     193     194     195     196     197     198   \n4        190     191     192     193     194     195     196     197     198   \n...      ...     ...     ...     ...     ...     ...     ...     ...     ...   \n4994     190     191     192     193     194     195     196     197     198   \n4995     190     191     192     193     194     195     196     197     198   \n4996     190     191     192     193     194     195     196     197     198   \n4997     190     191     192     193     194     195     196     197     198   \n4998     190     191     192     193     194     195     196     197     198   \n\n      col200  \n0        199  \n1        199  \n2        199  \n3        199  \n4        199  \n...      ...  \n4994     199  \n4995     199  \n4996     199  \n4997     199  \n4998     199  \n\n[4999 rows x 200 columns]",
      "text/html": "<div>\n<style scoped>\n    .dataframe tbody tr th:only-of-type {\n        vertical-align: middle;\n    }\n\n    .dataframe tbody tr th {\n        vertical-align: top;\n    }\n\n    .dataframe thead th {\n        text-align: right;\n    }\n</style>\n<table border=\"1\" class=\"dataframe\">\n  <thead>\n    <tr style=\"text-align: right;\">\n      <th></th>\n      <th>col1</th>\n      <th>col2</th>\n      <th>col3</th>\n      <th>col4</th>\n      <th>col5</th>\n      <th>col6</th>\n      <th>col7</th>\n      <th>col8</th>\n      <th>col9</th>\n      <th>col10</th>\n      <th>...</th>\n      <th>col191</th>\n      <th>col192</th>\n      <th>col193</th>\n      <th>col194</th>\n      <th>col195</th>\n      <th>col196</th>\n      <th>col197</th>\n      <th>col198</th>\n      <th>col199</th>\n      <th>col200</th>\n    </tr>\n  </thead>\n  <tbody>\n    <tr>\n      <th>0</th>\n      <td>1</td>\n      <td>1</td>\n      <td>2</td>\n      <td>3</td>\n      <td>4</td>\n      <td>5</td>\n      <td>6</td>\n      <td>7</td>\n      <td>8</td>\n      <td>9</td>\n      <td>...</td>\n      <td>190</td>\n      <td>191</td>\n      <td>192</td>\n      <td>193</td>\n      <td>194</td>\n      <td>195</td>\n      <td>196</td>\n      <td>197</td>\n      <td>198</td>\n      <td>199</td>\n    </tr>\n    <tr>\n      <th>1</th>\n      <td>0</td>\n      <td>1</td>\n      <td>2</td>\n      <td>3</td>\n      <td>4</td>\n      <td>5</td>\n      <td>6</td>\n      <td>7</td>\n      <td>8</td>\n      <td>9</td>\n      <td>...</td>\n      <td>190</td>\n      <td>191</td>\n      <td>192</td>\n      <td>193</td>\n      <td>194</td>\n      <td>195</td>\n      <td>196</td>\n      <td>197</td>\n      <td>198</td>\n      <td>199</td>\n    </tr>\n    <tr>\n      <th>2</th>\n      <td>0</td>\n      <td>1</td>\n      <td>2</td>\n      <td>3</td>\n      <td>4</td>\n      <td>5</td>\n      <td>6</td>\n      <td>7</td>\n      <td>8</td>\n      <td>9</td>\n      <td>...</td>\n      <td>190</td>\n      <td>191</td>\n      <td>192</td>\n      <td>193</td>\n      <td>194</td>\n      <td>195</td>\n      <td>196</td>\n      <td>197</td>\n      <td>198</td>\n      <td>199</td>\n    </tr>\n    <tr>\n      <th>3</th>\n      <td>0</td>\n      <td>1</td>\n      <td>2</td>\n      <td>3</td>\n      <td>4</td>\n      <td>5</td>\n      <td>6</td>\n      <td>7</td>\n      <td>8</td>\n      <td>9</td>\n      <td>...</td>\n      <td>190</td>\n      <td>191</td>\n      <td>192</td>\n      <td>193</td>\n      <td>194</td>\n      <td>195</td>\n      <td>196</td>\n      <td>197</td>\n      <td>198</td>\n      <td>199</td>\n    </tr>\n    <tr>\n      <th>4</th>\n      <td>0</td>\n      <td>1</td>\n      <td>2</td>\n      <td>3</td>\n      <td>4</td>\n      <td>5</td>\n      <td>6</td>\n      <td>7</td>\n      <td>8</td>\n      <td>9</td>\n      <td>...</td>\n      <td>190</td>\n      <td>191</td>\n      <td>192</td>\n      <td>193</td>\n      <td>194</td>\n      <td>195</td>\n      <td>196</td>\n      <td>197</td>\n      <td>198</td>\n      <td>199</td>\n    </tr>\n    <tr>\n      <th>...</th>\n      <td>...</td>\n      <td>...</td>\n      <td>...</td>\n      <td>...</td>\n      <td>...</td>\n      <td>...</td>\n      <td>...</td>\n      <td>...</td>\n      <td>...</td>\n      <td>...</td>\n      <td>...</td>\n      <td>...</td>\n      <td>...</td>\n      <td>...</td>\n      <td>...</td>\n      <td>...</td>\n      <td>...</td>\n      <td>...</td>\n      <td>...</td>\n      <td>...</td>\n      <td>...</td>\n    </tr>\n    <tr>\n      <th>4994</th>\n      <td>0</td>\n      <td>1</td>\n      <td>2</td>\n      <td>3</td>\n      <td>4</td>\n      <td>5</td>\n      <td>6</td>\n      <td>7</td>\n      <td>8</td>\n      <td>9</td>\n      <td>...</td>\n      <td>190</td>\n      <td>191</td>\n      <td>192</td>\n      <td>193</td>\n      <td>194</td>\n      <td>195</td>\n      <td>196</td>\n      <td>197</td>\n      <td>198</td>\n      <td>199</td>\n    </tr>\n    <tr>\n      <th>4995</th>\n      <td>0</td>\n      <td>1</td>\n      <td>2</td>\n      <td>3</td>\n      <td>4</td>\n      <td>5</td>\n      <td>6</td>\n      <td>7</td>\n      <td>8</td>\n      <td>9</td>\n      <td>...</td>\n      <td>190</td>\n      <td>191</td>\n      <td>192</td>\n      <td>193</td>\n      <td>194</td>\n      <td>195</td>\n      <td>196</td>\n      <td>197</td>\n      <td>198</td>\n      <td>199</td>\n    </tr>\n    <tr>\n      <th>4996</th>\n      <td>0</td>\n      <td>1</td>\n      <td>2</td>\n      <td>3</td>\n      <td>4</td>\n      <td>5</td>\n      <td>6</td>\n      <td>7</td>\n      <td>8</td>\n      <td>9</td>\n      <td>...</td>\n      <td>190</td>\n      <td>191</td>\n      <td>192</td>\n      <td>193</td>\n      <td>194</td>\n      <td>195</td>\n      <td>196</td>\n      <td>197</td>\n      <td>198</td>\n      <td>199</td>\n    </tr>\n    <tr>\n      <th>4997</th>\n      <td>0</td>\n      <td>1</td>\n      <td>2</td>\n      <td>3</td>\n      <td>4</td>\n      <td>5</td>\n      <td>6</td>\n      <td>7</td>\n      <td>8</td>\n      <td>9</td>\n      <td>...</td>\n      <td>190</td>\n      <td>191</td>\n      <td>192</td>\n      <td>193</td>\n      <td>194</td>\n      <td>195</td>\n      <td>196</td>\n      <td>197</td>\n      <td>198</td>\n      <td>199</td>\n    </tr>\n    <tr>\n      <th>4998</th>\n      <td>0</td>\n      <td>1</td>\n      <td>2</td>\n      <td>3</td>\n      <td>4</td>\n      <td>5</td>\n      <td>6</td>\n      <td>7</td>\n      <td>8</td>\n      <td>9</td>\n      <td>...</td>\n      <td>190</td>\n      <td>191</td>\n      <td>192</td>\n      <td>193</td>\n      <td>194</td>\n      <td>195</td>\n      <td>196</td>\n      <td>197</td>\n      <td>198</td>\n      <td>199</td>\n    </tr>\n  </tbody>\n</table>\n<p>4999 rows × 200 columns</p>\n</div>"
     },
     "execution_count": 9,
     "metadata": {},
     "output_type": "execute_result"
    }
   ],
   "source": [
    "data[\"Sheet1\"]"
   ],
   "metadata": {
    "collapsed": false,
    "ExecuteTime": {
     "end_time": "2024-03-05T14:23:06.819886600Z",
     "start_time": "2024-03-05T14:23:06.796240800Z"
    }
   },
   "id": "d8844dd3d778abd7"
  },
  {
   "cell_type": "markdown",
   "source": [
    "## 调整Df在Excel中的格式"
   ],
   "metadata": {
    "collapsed": false
   },
   "id": "3010ac924ee31e41"
  },
  {
   "cell_type": "code",
   "execution_count": 14,
   "outputs": [],
   "source": [
    "with pd.ExcelFile(r\"D:\\python\\python-for-excel-1st-edition\\python-for-excel-1st-edition\\xl\\stores.xlsx\",engine=\"openpyxl\") as xlfile:\n",
    "    df = pd.read_excel(xlfile,sheet_name=\"2020\")\n",
    "    book = xlfile.book\n",
    "    sheet = book[\"2019\"]\n",
    "    value = sheet[\"B3\"].value"
   ],
   "metadata": {
    "collapsed": false,
    "ExecuteTime": {
     "end_time": "2024-03-07T14:08:51.232011800Z",
     "start_time": "2024-03-07T14:08:51.218400600Z"
    }
   },
   "id": "4b7d551cb277b94c"
  },
  {
   "cell_type": "code",
   "execution_count": null,
   "outputs": [],
   "source": [
    "with pd.ExcelWriter()"
   ],
   "metadata": {
    "collapsed": false
   },
   "id": "1bbe29d1ff43fe38"
  },
  {
   "cell_type": "code",
   "execution_count": null,
   "outputs": [],
   "source": [],
   "metadata": {
    "collapsed": false
   },
   "id": "65ce6ecbf8fe3bbf"
  },
  {
   "cell_type": "code",
   "execution_count": null,
   "outputs": [],
   "source": [],
   "metadata": {
    "collapsed": false
   },
   "id": "36f54666290fd89b"
  },
  {
   "cell_type": "code",
   "execution_count": null,
   "outputs": [],
   "source": [],
   "metadata": {
    "collapsed": false
   },
   "id": "12f5eb6d686bd285"
  },
  {
   "cell_type": "code",
   "execution_count": null,
   "outputs": [],
   "source": [],
   "metadata": {
    "collapsed": false
   },
   "id": "69682e0f75400b57"
  },
  {
   "cell_type": "code",
   "execution_count": null,
   "outputs": [],
   "source": [],
   "metadata": {
    "collapsed": false
   },
   "id": "b1152e1142423550"
  },
  {
   "cell_type": "markdown",
   "source": [
    "## 时间序列"
   ],
   "metadata": {
    "collapsed": false
   },
   "id": "ef3bfce6b02d35d7"
  },
  {
   "cell_type": "code",
   "execution_count": 17,
   "outputs": [
    {
     "data": {
      "text/plain": "2011-01-02   -0.938819\n2011-01-05    1.806631\n2011-01-07    2.086249\n2011-01-08    0.335019\n2011-01-10    0.756929\n2011-01-12    0.532609\ndtype: float64"
     },
     "execution_count": 17,
     "metadata": {},
     "output_type": "execute_result"
    }
   ],
   "source": [
    "import numpy as np\n",
    "from datetime import datetime\n",
    "dates = [datetime(2011, 1, 2), datetime(2011, 1, 5),\n",
    "         datetime(2011, 1, 7), datetime(2011, 1, 8),\n",
    "         datetime(2011, 1, 10), datetime(2011, 1, 12)]\n",
    "ts = pd.Series(np.random.standard_normal(6), index=dates)\n",
    "ts"
   ],
   "metadata": {
    "collapsed": false,
    "ExecuteTime": {
     "end_time": "2024-03-07T15:04:31.938348900Z",
     "start_time": "2024-03-07T15:04:31.920832900Z"
    }
   },
   "id": "7216e8b5d219244f"
  },
  {
   "cell_type": "code",
   "execution_count": 18,
   "outputs": [
    {
     "data": {
      "text/plain": "DatetimeIndex(['2011-01-02', '2011-01-05', '2011-01-07', '2011-01-08',\n               '2011-01-10', '2011-01-12'],\n              dtype='datetime64[ns]', freq=None)"
     },
     "execution_count": 18,
     "metadata": {},
     "output_type": "execute_result"
    }
   ],
   "source": [
    "ts.index"
   ],
   "metadata": {
    "collapsed": false,
    "ExecuteTime": {
     "end_time": "2024-03-07T15:24:56.027885200Z",
     "start_time": "2024-03-07T15:24:55.979225600Z"
    }
   },
   "id": "f9f6996a55805053"
  },
  {
   "cell_type": "code",
   "execution_count": 20,
   "outputs": [
    {
     "data": {
      "text/plain": "2011-01-02   -1.877638\n2011-01-05         NaN\n2011-01-07    4.172498\n2011-01-08         NaN\n2011-01-10    1.513858\n2011-01-12         NaN\ndtype: float64"
     },
     "execution_count": 20,
     "metadata": {},
     "output_type": "execute_result"
    }
   ],
   "source": [
    "ts + ts[::2]"
   ],
   "metadata": {
    "collapsed": false,
    "ExecuteTime": {
     "end_time": "2024-03-07T15:27:55.688970500Z",
     "start_time": "2024-03-07T15:27:55.664127700Z"
    }
   },
   "id": "38026a541e011d55"
  },
  {
   "cell_type": "markdown",
   "source": [
    "## Excel自动化"
   ],
   "metadata": {
    "collapsed": false
   },
   "id": "a87d8de05c0eb627"
  },
  {
   "cell_type": "code",
   "execution_count": 3,
   "outputs": [],
   "source": [
    "import datetime as dt\n",
    "import xlwings as xw\n",
    "import pandas as pd\n",
    "import numpy as np"
   ],
   "metadata": {
    "collapsed": false,
    "ExecuteTime": {
     "end_time": "2024-03-09T18:02:31.821913200Z",
     "start_time": "2024-03-09T18:02:28.451258100Z"
    }
   },
   "id": "860b21c62ac1bc64"
  },
  {
   "cell_type": "code",
   "execution_count": 4,
   "outputs": [
    {
     "data": {
      "text/plain": "     Trial 1   Trial 2   Trial 3   Trial 4   Trial 5\n0   0.919396  0.976872 -0.162493  0.102429 -0.751591\n1  -0.014286  1.094054  0.456478 -1.407980  0.198345\n2   0.330775 -0.558831 -0.559912  0.094670  1.150525\n3   1.222836  0.864444  2.114815  1.368364 -0.299652\n4   0.378062  0.110630  1.265577  1.691135  0.935839\n..       ...       ...       ...       ...       ...\n95  0.341110 -0.217313 -0.140179 -0.454404 -1.263634\n96 -0.823854 -0.857395  0.149471 -0.524007 -0.350226\n97  2.017581  0.003616 -1.578981 -0.602741  0.947788\n98 -0.383615  0.662547 -0.769359  0.419895  1.402623\n99  2.099448 -1.002708 -0.186110 -0.458538  0.129905\n\n[100 rows x 5 columns]",
      "text/html": "<div>\n<style scoped>\n    .dataframe tbody tr th:only-of-type {\n        vertical-align: middle;\n    }\n\n    .dataframe tbody tr th {\n        vertical-align: top;\n    }\n\n    .dataframe thead th {\n        text-align: right;\n    }\n</style>\n<table border=\"1\" class=\"dataframe\">\n  <thead>\n    <tr style=\"text-align: right;\">\n      <th></th>\n      <th>Trial 1</th>\n      <th>Trial 2</th>\n      <th>Trial 3</th>\n      <th>Trial 4</th>\n      <th>Trial 5</th>\n    </tr>\n  </thead>\n  <tbody>\n    <tr>\n      <th>0</th>\n      <td>0.919396</td>\n      <td>0.976872</td>\n      <td>-0.162493</td>\n      <td>0.102429</td>\n      <td>-0.751591</td>\n    </tr>\n    <tr>\n      <th>1</th>\n      <td>-0.014286</td>\n      <td>1.094054</td>\n      <td>0.456478</td>\n      <td>-1.407980</td>\n      <td>0.198345</td>\n    </tr>\n    <tr>\n      <th>2</th>\n      <td>0.330775</td>\n      <td>-0.558831</td>\n      <td>-0.559912</td>\n      <td>0.094670</td>\n      <td>1.150525</td>\n    </tr>\n    <tr>\n      <th>3</th>\n      <td>1.222836</td>\n      <td>0.864444</td>\n      <td>2.114815</td>\n      <td>1.368364</td>\n      <td>-0.299652</td>\n    </tr>\n    <tr>\n      <th>4</th>\n      <td>0.378062</td>\n      <td>0.110630</td>\n      <td>1.265577</td>\n      <td>1.691135</td>\n      <td>0.935839</td>\n    </tr>\n    <tr>\n      <th>...</th>\n      <td>...</td>\n      <td>...</td>\n      <td>...</td>\n      <td>...</td>\n      <td>...</td>\n    </tr>\n    <tr>\n      <th>95</th>\n      <td>0.341110</td>\n      <td>-0.217313</td>\n      <td>-0.140179</td>\n      <td>-0.454404</td>\n      <td>-1.263634</td>\n    </tr>\n    <tr>\n      <th>96</th>\n      <td>-0.823854</td>\n      <td>-0.857395</td>\n      <td>0.149471</td>\n      <td>-0.524007</td>\n      <td>-0.350226</td>\n    </tr>\n    <tr>\n      <th>97</th>\n      <td>2.017581</td>\n      <td>0.003616</td>\n      <td>-1.578981</td>\n      <td>-0.602741</td>\n      <td>0.947788</td>\n    </tr>\n    <tr>\n      <th>98</th>\n      <td>-0.383615</td>\n      <td>0.662547</td>\n      <td>-0.769359</td>\n      <td>0.419895</td>\n      <td>1.402623</td>\n    </tr>\n    <tr>\n      <th>99</th>\n      <td>2.099448</td>\n      <td>-1.002708</td>\n      <td>-0.186110</td>\n      <td>-0.458538</td>\n      <td>0.129905</td>\n    </tr>\n  </tbody>\n</table>\n<p>100 rows × 5 columns</p>\n</div>"
     },
     "execution_count": 4,
     "metadata": {},
     "output_type": "execute_result"
    }
   ],
   "source": [
    "df = pd.DataFrame(data=np.random.randn(100, 5),\n",
    "                  columns=[f\"Trial {i}\" for i in range(1, 6)])\n",
    "df"
   ],
   "metadata": {
    "collapsed": false,
    "ExecuteTime": {
     "end_time": "2024-03-09T18:04:33.234921400Z",
     "start_time": "2024-03-09T18:04:33.214355100Z"
    }
   },
   "id": "bc8a375b72dc4d0d"
  },
  {
   "cell_type": "code",
   "execution_count": 5,
   "outputs": [
    {
     "name": "stdout",
     "output_type": "stream",
     "text": [
      "<class 'pandas.core.frame.DataFrame'>\n",
      "RangeIndex: 100 entries, 0 to 99\n",
      "Data columns (total 5 columns):\n",
      " #   Column   Non-Null Count  Dtype  \n",
      "---  ------   --------------  -----  \n",
      " 0   Trial 1  100 non-null    float64\n",
      " 1   Trial 2  100 non-null    float64\n",
      " 2   Trial 3  100 non-null    float64\n",
      " 3   Trial 4  100 non-null    float64\n",
      " 4   Trial 5  100 non-null    float64\n",
      "dtypes: float64(5)\n",
      "memory usage: 4.0 KB\n"
     ]
    }
   ],
   "source": [
    "df.info()"
   ],
   "metadata": {
    "collapsed": false,
    "ExecuteTime": {
     "end_time": "2024-03-09T18:04:50.588322200Z",
     "start_time": "2024-03-09T18:04:50.547427200Z"
    }
   },
   "id": "ad974b02f2ce9e7b"
  },
  {
   "cell_type": "code",
   "execution_count": 6,
   "outputs": [],
   "source": [
    "xw.view(df)"
   ],
   "metadata": {
    "collapsed": false,
    "ExecuteTime": {
     "end_time": "2024-03-09T18:06:06.149567700Z",
     "start_time": "2024-03-09T18:06:05.262039500Z"
    }
   },
   "id": "3821f94121f7db67"
  },
  {
   "cell_type": "code",
   "execution_count": null,
   "outputs": [],
   "source": [],
   "metadata": {
    "collapsed": false
   },
   "id": "c169c6213084fec3"
  }
 ],
 "metadata": {
  "kernelspec": {
   "display_name": "Python 3",
   "language": "python",
   "name": "python3"
  },
  "language_info": {
   "codemirror_mode": {
    "name": "ipython",
    "version": 2
   },
   "file_extension": ".py",
   "mimetype": "text/x-python",
   "name": "python",
   "nbconvert_exporter": "python",
   "pygments_lexer": "ipython2",
   "version": "2.7.6"
  }
 },
 "nbformat": 4,
 "nbformat_minor": 5
}
