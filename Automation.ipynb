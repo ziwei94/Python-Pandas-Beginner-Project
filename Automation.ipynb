{
 "cells": [
  {
   "cell_type": "code",
   "execution_count": 1,
   "id": "initial_id",
   "metadata": {
    "collapsed": true,
    "ExecuteTime": {
     "end_time": "2024-03-09T15:05:23.974703900Z",
     "start_time": "2024-03-09T15:05:23.023322600Z"
    }
   },
   "outputs": [],
   "source": [
    "import pandas as pd"
   ]
  },
  {
   "cell_type": "code",
   "execution_count": 2,
   "outputs": [
    {
     "data": {
      "text/plain": "      Invoice ID Branch       City Customer type  Gender  \\\n0    750-67-8428      A     Yangon        Member  Female   \n1    226-31-3081      C  Naypyitaw        Normal  Female   \n2    631-41-3108      A     Yangon        Normal    Male   \n3    123-19-1176      A     Yangon        Member    Male   \n4    373-73-7910      A     Yangon        Normal    Male   \n..           ...    ...        ...           ...     ...   \n995  233-67-5758      C  Naypyitaw        Normal    Male   \n996  303-96-2227      B   Mandalay        Normal  Female   \n997  727-02-1313      A     Yangon        Member    Male   \n998  347-56-2442      A     Yangon        Normal    Male   \n999  849-09-3807      A     Yangon        Member  Female   \n\n               Product line  Unit price  Quantity   Tax 5%      Total  \\\n0         Health and beauty       74.69         7  26.1415   548.9715   \n1    Electronic accessories       15.28         5   3.8200    80.2200   \n2        Home and lifestyle       46.33         7  16.2155   340.5255   \n3         Health and beauty       58.22         8  23.2880   489.0480   \n4         Sports and travel       86.31         7  30.2085   634.3785   \n..                      ...         ...       ...      ...        ...   \n995       Health and beauty       40.35         1   2.0175    42.3675   \n996      Home and lifestyle       97.38        10  48.6900  1022.4900   \n997      Food and beverages       31.84         1   1.5920    33.4320   \n998      Home and lifestyle       65.82         1   3.2910    69.1110   \n999     Fashion accessories       88.34         7  30.9190   649.2990   \n\n          Date      Time      Payment    cogs  gross margin percentage  \\\n0   2019-01-05  13:08:00      Ewallet  522.83                 4.761905   \n1   2019-03-08  10:29:00         Cash   76.40                 4.761905   \n2   2019-03-03  13:23:00  Credit card  324.31                 4.761905   \n3   2019-01-27  20:33:00      Ewallet  465.76                 4.761905   \n4   2019-02-08  10:37:00      Ewallet  604.17                 4.761905   \n..         ...       ...          ...     ...                      ...   \n995 2019-01-29  13:46:00      Ewallet   40.35                 4.761905   \n996 2019-03-02  17:16:00      Ewallet  973.80                 4.761905   \n997 2019-02-09  13:22:00         Cash   31.84                 4.761905   \n998 2019-02-22  15:33:00         Cash   65.82                 4.761905   \n999 2019-02-18  13:28:00         Cash  618.38                 4.761905   \n\n     gross income  Rating  \n0         26.1415     9.1  \n1          3.8200     9.6  \n2         16.2155     7.4  \n3         23.2880     8.4  \n4         30.2085     5.3  \n..            ...     ...  \n995        2.0175     6.2  \n996       48.6900     4.4  \n997        1.5920     7.7  \n998        3.2910     4.1  \n999       30.9190     6.6  \n\n[1000 rows x 17 columns]",
      "text/html": "<div>\n<style scoped>\n    .dataframe tbody tr th:only-of-type {\n        vertical-align: middle;\n    }\n\n    .dataframe tbody tr th {\n        vertical-align: top;\n    }\n\n    .dataframe thead th {\n        text-align: right;\n    }\n</style>\n<table border=\"1\" class=\"dataframe\">\n  <thead>\n    <tr style=\"text-align: right;\">\n      <th></th>\n      <th>Invoice ID</th>\n      <th>Branch</th>\n      <th>City</th>\n      <th>Customer type</th>\n      <th>Gender</th>\n      <th>Product line</th>\n      <th>Unit price</th>\n      <th>Quantity</th>\n      <th>Tax 5%</th>\n      <th>Total</th>\n      <th>Date</th>\n      <th>Time</th>\n      <th>Payment</th>\n      <th>cogs</th>\n      <th>gross margin percentage</th>\n      <th>gross income</th>\n      <th>Rating</th>\n    </tr>\n  </thead>\n  <tbody>\n    <tr>\n      <th>0</th>\n      <td>750-67-8428</td>\n      <td>A</td>\n      <td>Yangon</td>\n      <td>Member</td>\n      <td>Female</td>\n      <td>Health and beauty</td>\n      <td>74.69</td>\n      <td>7</td>\n      <td>26.1415</td>\n      <td>548.9715</td>\n      <td>2019-01-05</td>\n      <td>13:08:00</td>\n      <td>Ewallet</td>\n      <td>522.83</td>\n      <td>4.761905</td>\n      <td>26.1415</td>\n      <td>9.1</td>\n    </tr>\n    <tr>\n      <th>1</th>\n      <td>226-31-3081</td>\n      <td>C</td>\n      <td>Naypyitaw</td>\n      <td>Normal</td>\n      <td>Female</td>\n      <td>Electronic accessories</td>\n      <td>15.28</td>\n      <td>5</td>\n      <td>3.8200</td>\n      <td>80.2200</td>\n      <td>2019-03-08</td>\n      <td>10:29:00</td>\n      <td>Cash</td>\n      <td>76.40</td>\n      <td>4.761905</td>\n      <td>3.8200</td>\n      <td>9.6</td>\n    </tr>\n    <tr>\n      <th>2</th>\n      <td>631-41-3108</td>\n      <td>A</td>\n      <td>Yangon</td>\n      <td>Normal</td>\n      <td>Male</td>\n      <td>Home and lifestyle</td>\n      <td>46.33</td>\n      <td>7</td>\n      <td>16.2155</td>\n      <td>340.5255</td>\n      <td>2019-03-03</td>\n      <td>13:23:00</td>\n      <td>Credit card</td>\n      <td>324.31</td>\n      <td>4.761905</td>\n      <td>16.2155</td>\n      <td>7.4</td>\n    </tr>\n    <tr>\n      <th>3</th>\n      <td>123-19-1176</td>\n      <td>A</td>\n      <td>Yangon</td>\n      <td>Member</td>\n      <td>Male</td>\n      <td>Health and beauty</td>\n      <td>58.22</td>\n      <td>8</td>\n      <td>23.2880</td>\n      <td>489.0480</td>\n      <td>2019-01-27</td>\n      <td>20:33:00</td>\n      <td>Ewallet</td>\n      <td>465.76</td>\n      <td>4.761905</td>\n      <td>23.2880</td>\n      <td>8.4</td>\n    </tr>\n    <tr>\n      <th>4</th>\n      <td>373-73-7910</td>\n      <td>A</td>\n      <td>Yangon</td>\n      <td>Normal</td>\n      <td>Male</td>\n      <td>Sports and travel</td>\n      <td>86.31</td>\n      <td>7</td>\n      <td>30.2085</td>\n      <td>634.3785</td>\n      <td>2019-02-08</td>\n      <td>10:37:00</td>\n      <td>Ewallet</td>\n      <td>604.17</td>\n      <td>4.761905</td>\n      <td>30.2085</td>\n      <td>5.3</td>\n    </tr>\n    <tr>\n      <th>...</th>\n      <td>...</td>\n      <td>...</td>\n      <td>...</td>\n      <td>...</td>\n      <td>...</td>\n      <td>...</td>\n      <td>...</td>\n      <td>...</td>\n      <td>...</td>\n      <td>...</td>\n      <td>...</td>\n      <td>...</td>\n      <td>...</td>\n      <td>...</td>\n      <td>...</td>\n      <td>...</td>\n      <td>...</td>\n    </tr>\n    <tr>\n      <th>995</th>\n      <td>233-67-5758</td>\n      <td>C</td>\n      <td>Naypyitaw</td>\n      <td>Normal</td>\n      <td>Male</td>\n      <td>Health and beauty</td>\n      <td>40.35</td>\n      <td>1</td>\n      <td>2.0175</td>\n      <td>42.3675</td>\n      <td>2019-01-29</td>\n      <td>13:46:00</td>\n      <td>Ewallet</td>\n      <td>40.35</td>\n      <td>4.761905</td>\n      <td>2.0175</td>\n      <td>6.2</td>\n    </tr>\n    <tr>\n      <th>996</th>\n      <td>303-96-2227</td>\n      <td>B</td>\n      <td>Mandalay</td>\n      <td>Normal</td>\n      <td>Female</td>\n      <td>Home and lifestyle</td>\n      <td>97.38</td>\n      <td>10</td>\n      <td>48.6900</td>\n      <td>1022.4900</td>\n      <td>2019-03-02</td>\n      <td>17:16:00</td>\n      <td>Ewallet</td>\n      <td>973.80</td>\n      <td>4.761905</td>\n      <td>48.6900</td>\n      <td>4.4</td>\n    </tr>\n    <tr>\n      <th>997</th>\n      <td>727-02-1313</td>\n      <td>A</td>\n      <td>Yangon</td>\n      <td>Member</td>\n      <td>Male</td>\n      <td>Food and beverages</td>\n      <td>31.84</td>\n      <td>1</td>\n      <td>1.5920</td>\n      <td>33.4320</td>\n      <td>2019-02-09</td>\n      <td>13:22:00</td>\n      <td>Cash</td>\n      <td>31.84</td>\n      <td>4.761905</td>\n      <td>1.5920</td>\n      <td>7.7</td>\n    </tr>\n    <tr>\n      <th>998</th>\n      <td>347-56-2442</td>\n      <td>A</td>\n      <td>Yangon</td>\n      <td>Normal</td>\n      <td>Male</td>\n      <td>Home and lifestyle</td>\n      <td>65.82</td>\n      <td>1</td>\n      <td>3.2910</td>\n      <td>69.1110</td>\n      <td>2019-02-22</td>\n      <td>15:33:00</td>\n      <td>Cash</td>\n      <td>65.82</td>\n      <td>4.761905</td>\n      <td>3.2910</td>\n      <td>4.1</td>\n    </tr>\n    <tr>\n      <th>999</th>\n      <td>849-09-3807</td>\n      <td>A</td>\n      <td>Yangon</td>\n      <td>Member</td>\n      <td>Female</td>\n      <td>Fashion accessories</td>\n      <td>88.34</td>\n      <td>7</td>\n      <td>30.9190</td>\n      <td>649.2990</td>\n      <td>2019-02-18</td>\n      <td>13:28:00</td>\n      <td>Cash</td>\n      <td>618.38</td>\n      <td>4.761905</td>\n      <td>30.9190</td>\n      <td>6.6</td>\n    </tr>\n  </tbody>\n</table>\n<p>1000 rows × 17 columns</p>\n</div>"
     },
     "execution_count": 2,
     "metadata": {},
     "output_type": "execute_result"
    }
   ],
   "source": [
    "df = pd.read_excel('D:\\python\\supermarket_sales.xlsx')\n",
    "df"
   ],
   "metadata": {
    "collapsed": false,
    "ExecuteTime": {
     "end_time": "2024-03-09T15:06:30.859137100Z",
     "start_time": "2024-03-09T15:06:30.145290100Z"
    }
   },
   "id": "d3cb5f99b1cf9398"
  },
  {
   "cell_type": "code",
   "execution_count": 3,
   "outputs": [
    {
     "name": "stdout",
     "output_type": "stream",
     "text": [
      "<class 'pandas.core.frame.DataFrame'>\n",
      "RangeIndex: 1000 entries, 0 to 999\n",
      "Data columns (total 17 columns):\n",
      " #   Column                   Non-Null Count  Dtype         \n",
      "---  ------                   --------------  -----         \n",
      " 0   Invoice ID               1000 non-null   object        \n",
      " 1   Branch                   1000 non-null   object        \n",
      " 2   City                     1000 non-null   object        \n",
      " 3   Customer type            1000 non-null   object        \n",
      " 4   Gender                   1000 non-null   object        \n",
      " 5   Product line             1000 non-null   object        \n",
      " 6   Unit price               1000 non-null   float64       \n",
      " 7   Quantity                 1000 non-null   int64         \n",
      " 8   Tax 5%                   1000 non-null   float64       \n",
      " 9   Total                    1000 non-null   float64       \n",
      " 10  Date                     1000 non-null   datetime64[ns]\n",
      " 11  Time                     1000 non-null   object        \n",
      " 12  Payment                  1000 non-null   object        \n",
      " 13  cogs                     1000 non-null   float64       \n",
      " 14  gross margin percentage  1000 non-null   float64       \n",
      " 15  gross income             1000 non-null   float64       \n",
      " 16  Rating                   1000 non-null   float64       \n",
      "dtypes: datetime64[ns](1), float64(7), int64(1), object(8)\n",
      "memory usage: 132.9+ KB\n"
     ]
    }
   ],
   "source": [
    "df.info()"
   ],
   "metadata": {
    "collapsed": false,
    "ExecuteTime": {
     "end_time": "2024-03-09T15:06:37.184155900Z",
     "start_time": "2024-03-09T15:06:37.151108100Z"
    }
   },
   "id": "df516b6e316743f3"
  },
  {
   "cell_type": "code",
   "execution_count": 4,
   "outputs": [
    {
     "data": {
      "text/plain": "     Gender            Product line      Total\n0    Female       Health and beauty   548.9715\n1    Female  Electronic accessories    80.2200\n2      Male      Home and lifestyle   340.5255\n3      Male       Health and beauty   489.0480\n4      Male       Sports and travel   634.3785\n..      ...                     ...        ...\n995    Male       Health and beauty    42.3675\n996  Female      Home and lifestyle  1022.4900\n997    Male      Food and beverages    33.4320\n998    Male      Home and lifestyle    69.1110\n999  Female     Fashion accessories   649.2990\n\n[1000 rows x 3 columns]",
      "text/html": "<div>\n<style scoped>\n    .dataframe tbody tr th:only-of-type {\n        vertical-align: middle;\n    }\n\n    .dataframe tbody tr th {\n        vertical-align: top;\n    }\n\n    .dataframe thead th {\n        text-align: right;\n    }\n</style>\n<table border=\"1\" class=\"dataframe\">\n  <thead>\n    <tr style=\"text-align: right;\">\n      <th></th>\n      <th>Gender</th>\n      <th>Product line</th>\n      <th>Total</th>\n    </tr>\n  </thead>\n  <tbody>\n    <tr>\n      <th>0</th>\n      <td>Female</td>\n      <td>Health and beauty</td>\n      <td>548.9715</td>\n    </tr>\n    <tr>\n      <th>1</th>\n      <td>Female</td>\n      <td>Electronic accessories</td>\n      <td>80.2200</td>\n    </tr>\n    <tr>\n      <th>2</th>\n      <td>Male</td>\n      <td>Home and lifestyle</td>\n      <td>340.5255</td>\n    </tr>\n    <tr>\n      <th>3</th>\n      <td>Male</td>\n      <td>Health and beauty</td>\n      <td>489.0480</td>\n    </tr>\n    <tr>\n      <th>4</th>\n      <td>Male</td>\n      <td>Sports and travel</td>\n      <td>634.3785</td>\n    </tr>\n    <tr>\n      <th>...</th>\n      <td>...</td>\n      <td>...</td>\n      <td>...</td>\n    </tr>\n    <tr>\n      <th>995</th>\n      <td>Male</td>\n      <td>Health and beauty</td>\n      <td>42.3675</td>\n    </tr>\n    <tr>\n      <th>996</th>\n      <td>Female</td>\n      <td>Home and lifestyle</td>\n      <td>1022.4900</td>\n    </tr>\n    <tr>\n      <th>997</th>\n      <td>Male</td>\n      <td>Food and beverages</td>\n      <td>33.4320</td>\n    </tr>\n    <tr>\n      <th>998</th>\n      <td>Male</td>\n      <td>Home and lifestyle</td>\n      <td>69.1110</td>\n    </tr>\n    <tr>\n      <th>999</th>\n      <td>Female</td>\n      <td>Fashion accessories</td>\n      <td>649.2990</td>\n    </tr>\n  </tbody>\n</table>\n<p>1000 rows × 3 columns</p>\n</div>"
     },
     "execution_count": 4,
     "metadata": {},
     "output_type": "execute_result"
    }
   ],
   "source": [
    "df = df[['Gender','Product line','Total']]\n",
    "df"
   ],
   "metadata": {
    "collapsed": false,
    "ExecuteTime": {
     "end_time": "2024-03-09T15:07:43.995969300Z",
     "start_time": "2024-03-09T15:07:43.959370800Z"
    }
   },
   "id": "3f1a0148464b7a3c"
  },
  {
   "cell_type": "code",
   "execution_count": 5,
   "outputs": [
    {
     "data": {
      "text/plain": "Product line  Electronic accessories  Fashion accessories  Food and beverages  \\\nGender                                                                          \nFemale                       27102.0              30437.0             33171.0   \nMale                         27236.0              23868.0             22974.0   \n\nProduct line  Health and beauty  Home and lifestyle  Sports and travel  \nGender                                                                  \nFemale                  18561.0             30037.0            28575.0  \nMale                    30633.0             23825.0            26548.0  ",
      "text/html": "<div>\n<style scoped>\n    .dataframe tbody tr th:only-of-type {\n        vertical-align: middle;\n    }\n\n    .dataframe tbody tr th {\n        vertical-align: top;\n    }\n\n    .dataframe thead th {\n        text-align: right;\n    }\n</style>\n<table border=\"1\" class=\"dataframe\">\n  <thead>\n    <tr style=\"text-align: right;\">\n      <th>Product line</th>\n      <th>Electronic accessories</th>\n      <th>Fashion accessories</th>\n      <th>Food and beverages</th>\n      <th>Health and beauty</th>\n      <th>Home and lifestyle</th>\n      <th>Sports and travel</th>\n    </tr>\n    <tr>\n      <th>Gender</th>\n      <th></th>\n      <th></th>\n      <th></th>\n      <th></th>\n      <th></th>\n      <th></th>\n    </tr>\n  </thead>\n  <tbody>\n    <tr>\n      <th>Female</th>\n      <td>27102.0</td>\n      <td>30437.0</td>\n      <td>33171.0</td>\n      <td>18561.0</td>\n      <td>30037.0</td>\n      <td>28575.0</td>\n    </tr>\n    <tr>\n      <th>Male</th>\n      <td>27236.0</td>\n      <td>23868.0</td>\n      <td>22974.0</td>\n      <td>30633.0</td>\n      <td>23825.0</td>\n      <td>26548.0</td>\n    </tr>\n  </tbody>\n</table>\n</div>"
     },
     "execution_count": 5,
     "metadata": {},
     "output_type": "execute_result"
    }
   ],
   "source": [
    "pivot_table = df.pivot_table(index='Gender',columns='Product line',values='Total',aggfunc='sum').round(0)\n",
    "pivot_table"
   ],
   "metadata": {
    "collapsed": false,
    "ExecuteTime": {
     "end_time": "2024-03-09T15:08:48.802013200Z",
     "start_time": "2024-03-09T15:08:48.773520400Z"
    }
   },
   "id": "9963ce2a8927724e"
  },
  {
   "cell_type": "code",
   "execution_count": 6,
   "outputs": [],
   "source": [
    "pivot_table.to_excel('pivot_table.xlsx', 'Report', startrow=4)"
   ],
   "metadata": {
    "collapsed": false,
    "ExecuteTime": {
     "end_time": "2024-03-09T15:11:01.623700800Z",
     "start_time": "2024-03-09T15:11:01.544307300Z"
    }
   },
   "id": "4bf2a7adf192abc4"
  },
  {
   "cell_type": "code",
   "execution_count": 7,
   "outputs": [],
   "source": [
    "from openpyxl import load_workbook\n",
    "from openpyxl.chart import BarChart, Reference"
   ],
   "metadata": {
    "collapsed": false,
    "ExecuteTime": {
     "end_time": "2024-03-09T15:12:08.120545900Z",
     "start_time": "2024-03-09T15:12:08.080253700Z"
    }
   },
   "id": "96105692fde0b48a"
  },
  {
   "cell_type": "code",
   "execution_count": 15,
   "outputs": [
    {
     "data": {
      "text/plain": "'Report'!$A$6:$A$7"
     },
     "execution_count": 15,
     "metadata": {},
     "output_type": "execute_result"
    }
   ],
   "source": [
    "wb = load_workbook('pivot_table.xlsx')\n",
    "sheet = wb['Report']\n",
    "\n",
    "min_column = wb.active.min_column\n",
    "max_column = wb.active.max_column\n",
    "min_row = wb.active.min_row\n",
    "max_row = wb.active.max_row\n",
    "\n",
    "barchart = BarChart()\n",
    "\n",
    "data = Reference(sheet,\n",
    "                 min_col=min_column+1,\n",
    "                 max_col=max_column,\n",
    "                 min_row=min_row,\n",
    "                 max_row=max_row)\n",
    "\n",
    "categories = Reference(sheet,\n",
    "                       min_col=min_column,\n",
    "                       max_col=min_column,\n",
    "                       min_row=min_row+1,\n",
    "                       max_row=max_row)\n",
    "categories"
   ],
   "metadata": {
    "collapsed": false,
    "ExecuteTime": {
     "end_time": "2024-03-09T16:04:33.878178400Z",
     "start_time": "2024-03-09T16:04:33.862874200Z"
    }
   },
   "id": "1d9c13a96c37f8d6"
  },
  {
   "cell_type": "code",
   "execution_count": 16,
   "outputs": [
    {
     "data": {
      "text/plain": "'Report'!$B$5:$G$7"
     },
     "execution_count": 16,
     "metadata": {},
     "output_type": "execute_result"
    }
   ],
   "source": [
    "data"
   ],
   "metadata": {
    "collapsed": false,
    "ExecuteTime": {
     "end_time": "2024-03-09T16:04:45.246227500Z",
     "start_time": "2024-03-09T16:04:45.232797600Z"
    }
   },
   "id": "3b45866fa5f49fdc"
  },
  {
   "cell_type": "code",
   "execution_count": 18,
   "outputs": [],
   "source": [
    "barchart.add_data(data, titles_from_data=True)\n",
    "barchart.set_categories(categories)\n",
    "\n",
    "#Make Chart\n",
    "sheet.add_chart(barchart,\"B12\")\n",
    "barchart.title = 'Sales by Product line'\n",
    "barchart.style = 5"
   ],
   "metadata": {
    "collapsed": false,
    "ExecuteTime": {
     "end_time": "2024-03-09T16:05:26.689818100Z",
     "start_time": "2024-03-09T16:05:26.685969200Z"
    }
   },
   "id": "f362c7a6c86ef8b5"
  },
  {
   "cell_type": "code",
   "execution_count": 19,
   "outputs": [],
   "source": [
    "wb.save('barchart.xlsx')"
   ],
   "metadata": {
    "collapsed": false,
    "ExecuteTime": {
     "end_time": "2024-03-09T16:05:28.861950800Z",
     "start_time": "2024-03-09T16:05:28.847105800Z"
    }
   },
   "id": "88e5113d868ad900"
  },
  {
   "cell_type": "code",
   "execution_count": null,
   "outputs": [],
   "source": [],
   "metadata": {
    "collapsed": false
   },
   "id": "43385fbc29715076"
  }
 ],
 "metadata": {
  "kernelspec": {
   "display_name": "Python 3",
   "language": "python",
   "name": "python3"
  },
  "language_info": {
   "codemirror_mode": {
    "name": "ipython",
    "version": 2
   },
   "file_extension": ".py",
   "mimetype": "text/x-python",
   "name": "python",
   "nbconvert_exporter": "python",
   "pygments_lexer": "ipython2",
   "version": "2.7.6"
  }
 },
 "nbformat": 4,
 "nbformat_minor": 5
}
