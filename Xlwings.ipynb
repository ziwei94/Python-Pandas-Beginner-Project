{
 "cells": [
  {
   "cell_type": "code",
   "execution_count": 12,
   "outputs": [
    {
     "data": {
      "text/plain": "     Trial 1   Trial 2   Trial 3   Trial 4   Trial 5\n0   0.104524  1.907353 -0.052192 -1.364582 -0.047060\n1   1.761580 -0.097538  0.585087  0.646278  0.391947\n2   1.847725 -0.940635 -1.773853  1.191105  0.605275\n3  -0.266307  1.025276  0.010830 -1.409479 -0.001844\n4  -1.725041  0.337565 -0.114407 -0.534443 -0.185132\n..       ...       ...       ...       ...       ...\n95  0.573417  0.747617 -0.691490 -0.515171  0.698536\n96 -0.958962  0.486009  0.232477  1.261666 -1.273956\n97  1.050753  2.109600 -1.023915  0.671990 -0.258344\n98  0.744652  0.909584  0.443530  0.627855  0.014663\n99  0.727688 -0.037953  2.046255  1.957221  2.167261\n\n[100 rows x 5 columns]",
      "text/html": "<div>\n<style scoped>\n    .dataframe tbody tr th:only-of-type {\n        vertical-align: middle;\n    }\n\n    .dataframe tbody tr th {\n        vertical-align: top;\n    }\n\n    .dataframe thead th {\n        text-align: right;\n    }\n</style>\n<table border=\"1\" class=\"dataframe\">\n  <thead>\n    <tr style=\"text-align: right;\">\n      <th></th>\n      <th>Trial 1</th>\n      <th>Trial 2</th>\n      <th>Trial 3</th>\n      <th>Trial 4</th>\n      <th>Trial 5</th>\n    </tr>\n  </thead>\n  <tbody>\n    <tr>\n      <th>0</th>\n      <td>0.104524</td>\n      <td>1.907353</td>\n      <td>-0.052192</td>\n      <td>-1.364582</td>\n      <td>-0.047060</td>\n    </tr>\n    <tr>\n      <th>1</th>\n      <td>1.761580</td>\n      <td>-0.097538</td>\n      <td>0.585087</td>\n      <td>0.646278</td>\n      <td>0.391947</td>\n    </tr>\n    <tr>\n      <th>2</th>\n      <td>1.847725</td>\n      <td>-0.940635</td>\n      <td>-1.773853</td>\n      <td>1.191105</td>\n      <td>0.605275</td>\n    </tr>\n    <tr>\n      <th>3</th>\n      <td>-0.266307</td>\n      <td>1.025276</td>\n      <td>0.010830</td>\n      <td>-1.409479</td>\n      <td>-0.001844</td>\n    </tr>\n    <tr>\n      <th>4</th>\n      <td>-1.725041</td>\n      <td>0.337565</td>\n      <td>-0.114407</td>\n      <td>-0.534443</td>\n      <td>-0.185132</td>\n    </tr>\n    <tr>\n      <th>...</th>\n      <td>...</td>\n      <td>...</td>\n      <td>...</td>\n      <td>...</td>\n      <td>...</td>\n    </tr>\n    <tr>\n      <th>95</th>\n      <td>0.573417</td>\n      <td>0.747617</td>\n      <td>-0.691490</td>\n      <td>-0.515171</td>\n      <td>0.698536</td>\n    </tr>\n    <tr>\n      <th>96</th>\n      <td>-0.958962</td>\n      <td>0.486009</td>\n      <td>0.232477</td>\n      <td>1.261666</td>\n      <td>-1.273956</td>\n    </tr>\n    <tr>\n      <th>97</th>\n      <td>1.050753</td>\n      <td>2.109600</td>\n      <td>-1.023915</td>\n      <td>0.671990</td>\n      <td>-0.258344</td>\n    </tr>\n    <tr>\n      <th>98</th>\n      <td>0.744652</td>\n      <td>0.909584</td>\n      <td>0.443530</td>\n      <td>0.627855</td>\n      <td>0.014663</td>\n    </tr>\n    <tr>\n      <th>99</th>\n      <td>0.727688</td>\n      <td>-0.037953</td>\n      <td>2.046255</td>\n      <td>1.957221</td>\n      <td>2.167261</td>\n    </tr>\n  </tbody>\n</table>\n<p>100 rows × 5 columns</p>\n</div>"
     },
     "execution_count": 12,
     "metadata": {},
     "output_type": "execute_result"
    }
   ],
   "source": [
    "import datetime as dt\n",
    "import xlwings as xw\n",
    "import pandas as pd\n",
    "import numpy as np\n",
    "\n",
    "# Create a Df with random numbers\n",
    "df = pd.DataFrame(data=np.random.randn(100, 5),\n",
    "                  columns=[f\"Trial {i}\" for i in range(1, 6)])\n",
    "df"
   ],
   "metadata": {
    "collapsed": false,
    "ExecuteTime": {
     "end_time": "2024-03-30T15:27:05.387394900Z",
     "start_time": "2024-03-30T15:27:05.356120100Z"
    }
   },
   "id": "817fa02406589697"
  },
  {
   "cell_type": "code",
   "execution_count": 13,
   "outputs": [],
   "source": [
    "# Check the Df in Opened Excel\n",
    "xw.view(df)"
   ],
   "metadata": {
    "collapsed": false,
    "ExecuteTime": {
     "end_time": "2024-03-30T15:27:06.032542900Z",
     "start_time": "2024-03-30T15:27:05.765751200Z"
    }
   },
   "id": "b82513ce9de94965"
  },
  {
   "cell_type": "code",
   "execution_count": 14,
   "outputs": [
    {
     "data": {
      "text/plain": "'工作簿9'"
     },
     "execution_count": 14,
     "metadata": {},
     "output_type": "execute_result"
    }
   ],
   "source": [
    "# Create a new blank worksheet and print the name\n",
    "book = xw.Book()\n",
    "book.name"
   ],
   "metadata": {
    "collapsed": false,
    "ExecuteTime": {
     "end_time": "2024-03-30T15:27:11.037058800Z",
     "start_time": "2024-03-30T15:27:10.899438400Z"
    }
   },
   "id": "a6faa9b7d04c6631"
  },
  {
   "cell_type": "code",
   "execution_count": 15,
   "outputs": [
    {
     "data": {
      "text/plain": "Sheets([<Sheet [工作簿9]Sheet1>])"
     },
     "execution_count": 15,
     "metadata": {},
     "output_type": "execute_result"
    }
   ],
   "source": [
    "book.sheets"
   ],
   "metadata": {
    "collapsed": false,
    "ExecuteTime": {
     "end_time": "2024-03-30T15:27:12.467060400Z",
     "start_time": "2024-03-30T15:27:12.450801300Z"
    }
   },
   "id": "5d2c5bc3734586c3"
  },
  {
   "cell_type": "code",
   "execution_count": 16,
   "outputs": [
    {
     "data": {
      "text/plain": "<Range [工作簿9]Sheet1!$A$1>"
     },
     "execution_count": 16,
     "metadata": {},
     "output_type": "execute_result"
    }
   ],
   "source": [
    "sheet1 = book.sheets[0]\n",
    "sheet1 = book.sheets[\"Sheet1\"]\n",
    "sheet1.range(\"A1\")"
   ],
   "metadata": {
    "collapsed": false,
    "ExecuteTime": {
     "end_time": "2024-03-30T15:27:12.980610Z",
     "start_time": "2024-03-30T15:27:12.960527900Z"
    }
   },
   "id": "a62fd30845907ab9"
  },
  {
   "cell_type": "code",
   "execution_count": 17,
   "outputs": [
    {
     "data": {
      "text/plain": "[[1.0, 2.0], [3.0, 4.0]]"
     },
     "execution_count": 17,
     "metadata": {},
     "output_type": "execute_result"
    }
   ],
   "source": [
    "# create values in sheet1\n",
    "sheet1.range(\"A1\").value = [[1,2],\n",
    "                            [3,4]]\n",
    "sheet1.range(\"A4\").value = \"Hello!\"\n",
    "sheet1.range(\"A1:B2\").value"
   ],
   "metadata": {
    "collapsed": false,
    "ExecuteTime": {
     "end_time": "2024-03-30T15:27:13.586830300Z",
     "start_time": "2024-03-30T15:27:13.510593700Z"
    }
   },
   "id": "e306b3ae9db2dde0"
  },
  {
   "cell_type": "code",
   "execution_count": 18,
   "outputs": [
    {
     "data": {
      "text/plain": "'Hello!'"
     },
     "execution_count": 18,
     "metadata": {},
     "output_type": "execute_result"
    }
   ],
   "source": [
    "sheet1.range(\"A4\").value"
   ],
   "metadata": {
    "collapsed": false,
    "ExecuteTime": {
     "end_time": "2024-03-30T15:27:14.019913200Z",
     "start_time": "2024-03-30T15:27:14.000866800Z"
    }
   },
   "id": "87851a5bbc9380ac"
  },
  {
   "cell_type": "code",
   "execution_count": 19,
   "outputs": [
    {
     "data": {
      "text/plain": "<Range [工作簿9]Sheet1!$A$1>"
     },
     "execution_count": 19,
     "metadata": {},
     "output_type": "execute_result"
    }
   ],
   "source": [
    "#index in xlwings\n",
    "sheet1.range(\"A1:B2\")[0,0]"
   ],
   "metadata": {
    "collapsed": false,
    "ExecuteTime": {
     "end_time": "2024-03-30T15:27:14.209239Z",
     "start_time": "2024-03-30T15:27:14.139015600Z"
    }
   },
   "id": "749d5e364ae068f9"
  },
  {
   "cell_type": "code",
   "execution_count": 20,
   "outputs": [
    {
     "data": {
      "text/plain": "<Range [工作簿9]Sheet1!$B$1:$B$2>"
     },
     "execution_count": 20,
     "metadata": {},
     "output_type": "execute_result"
    }
   ],
   "source": [
    "#slicing in xlwings\n",
    "sheet1.range(\"A1:B2\")[:,1]"
   ],
   "metadata": {
    "collapsed": false,
    "ExecuteTime": {
     "end_time": "2024-03-30T15:27:14.332154500Z",
     "start_time": "2024-03-30T15:27:14.300340600Z"
    }
   },
   "id": "f8b2dc4159082ca8"
  },
  {
   "cell_type": "code",
   "execution_count": 21,
   "outputs": [
    {
     "data": {
      "text/plain": "<Range [工作簿9]Sheet1!$A$1>"
     },
     "execution_count": 21,
     "metadata": {},
     "output_type": "execute_result"
    }
   ],
   "source": [
    "sheet1[\"A1\"]"
   ],
   "metadata": {
    "collapsed": false,
    "ExecuteTime": {
     "end_time": "2024-03-30T15:27:14.471507200Z",
     "start_time": "2024-03-30T15:27:14.427453400Z"
    }
   },
   "id": "b58a4f399cdf4187"
  },
  {
   "cell_type": "code",
   "execution_count": 22,
   "outputs": [
    {
     "data": {
      "text/plain": "<Range [工作簿9]Sheet1!$A$1:$B$2>"
     },
     "execution_count": 22,
     "metadata": {},
     "output_type": "execute_result"
    }
   ],
   "source": [
    "sheet1[\"A1:B2\"]"
   ],
   "metadata": {
    "collapsed": false,
    "ExecuteTime": {
     "end_time": "2024-03-30T15:27:14.588224500Z",
     "start_time": "2024-03-30T15:27:14.556422200Z"
    }
   },
   "id": "e6bc2100b8d75909"
  },
  {
   "cell_type": "code",
   "execution_count": 23,
   "outputs": [
    {
     "data": {
      "text/plain": "<Range [工作簿9]Sheet1!$A$1>"
     },
     "execution_count": 23,
     "metadata": {},
     "output_type": "execute_result"
    }
   ],
   "source": [
    "# indexing single cell\n",
    "sheet1[0, 0]"
   ],
   "metadata": {
    "collapsed": false,
    "ExecuteTime": {
     "end_time": "2024-03-30T15:27:14.699688600Z",
     "start_time": "2024-03-30T15:27:14.689943Z"
    }
   },
   "id": "b3efc190dac6c58d"
  },
  {
   "cell_type": "code",
   "execution_count": 24,
   "outputs": [
    {
     "data": {
      "text/plain": "<Range [工作簿9]Sheet1!$A$1:$B$2>"
     },
     "execution_count": 24,
     "metadata": {},
     "output_type": "execute_result"
    }
   ],
   "source": [
    "#indexing multiple cells\n",
    "sheet1[:2, :2]"
   ],
   "metadata": {
    "collapsed": false,
    "ExecuteTime": {
     "end_time": "2024-03-30T15:27:14.860147Z",
     "start_time": "2024-03-30T15:27:14.840894900Z"
    }
   },
   "id": "6f586fb20a69450"
  },
  {
   "cell_type": "code",
   "execution_count": 25,
   "outputs": [
    {
     "data": {
      "text/plain": "<Range [工作簿9]Sheet1!$D$10>"
     },
     "execution_count": 25,
     "metadata": {},
     "output_type": "execute_result"
    }
   ],
   "source": [
    "# indicating sheet index to find particular cell D10\n",
    "sheet1[9, 3]"
   ],
   "metadata": {
    "collapsed": false,
    "ExecuteTime": {
     "end_time": "2024-03-30T15:27:15.025717Z",
     "start_time": "2024-03-30T15:27:14.986072600Z"
    }
   },
   "id": "82dafdb2f02c1ea4"
  },
  {
   "cell_type": "code",
   "execution_count": 26,
   "outputs": [
    {
     "data": {
      "text/plain": "<Range [工作簿9]Sheet1!$D$10>"
     },
     "execution_count": 26,
     "metadata": {},
     "output_type": "execute_result"
    }
   ],
   "source": [
    "# use range to find D10 ##This one is much better and clearer to find particular cell\n",
    "sheet1.range((10, 4))"
   ],
   "metadata": {
    "collapsed": false,
    "ExecuteTime": {
     "end_time": "2024-03-30T15:27:15.138067100Z",
     "start_time": "2024-03-30T15:27:15.120674100Z"
    }
   },
   "id": "ca27623b6cf2e805"
  },
  {
   "cell_type": "code",
   "execution_count": 27,
   "outputs": [
    {
     "data": {
      "text/plain": "<Range [工作簿9]Sheet1!$D$10:$F$11>"
     },
     "execution_count": 27,
     "metadata": {},
     "output_type": "execute_result"
    }
   ],
   "source": [
    "# use slicing to find D10:F11\n",
    "sheet1[9:11, 3:6]"
   ],
   "metadata": {
    "collapsed": false,
    "ExecuteTime": {
     "end_time": "2024-03-30T15:27:15.289831Z",
     "start_time": "2024-03-30T15:27:15.270384800Z"
    }
   },
   "id": "c6db3ccb30141e38"
  },
  {
   "cell_type": "code",
   "execution_count": 28,
   "outputs": [
    {
     "data": {
      "text/plain": "<Range [工作簿9]Sheet1!$D$10:$F$11>"
     },
     "execution_count": 28,
     "metadata": {},
     "output_type": "execute_result"
    }
   ],
   "source": [
    "#use range to find D10:F11\n",
    "sheet1.range((10,4),(11,6))"
   ],
   "metadata": {
    "collapsed": false,
    "ExecuteTime": {
     "end_time": "2024-03-30T15:27:15.456071800Z",
     "start_time": "2024-03-30T15:27:15.437721100Z"
    }
   },
   "id": "2bef683c4bb7de15"
  },
  {
   "cell_type": "code",
   "execution_count": 29,
   "outputs": [
    {
     "data": {
      "text/plain": "<Range [工作簿9]Sheet1!$D$10:$F$11>"
     },
     "execution_count": 29,
     "metadata": {},
     "output_type": "execute_result"
    }
   ],
   "source": [
    "myrange = book.sheets[0].range((10, 4), (11, 6))\n",
    "myrange"
   ],
   "metadata": {
    "collapsed": false,
    "ExecuteTime": {
     "end_time": "2024-03-30T15:27:15.610431200Z",
     "start_time": "2024-03-30T15:27:15.586349900Z"
    }
   },
   "id": "d478fa1f3583424"
  },
  {
   "cell_type": "code",
   "execution_count": 30,
   "outputs": [
    {
     "data": {
      "text/plain": "<App [excel] 24440>"
     },
     "execution_count": 30,
     "metadata": {},
     "output_type": "execute_result"
    }
   ],
   "source": [
    "sheet1[\"A1\"].sheet.book.app"
   ],
   "metadata": {
    "collapsed": false,
    "ExecuteTime": {
     "end_time": "2024-03-30T15:27:15.752849600Z",
     "start_time": "2024-03-30T15:27:15.735969900Z"
    }
   },
   "id": "3187cfad71159233"
  },
  {
   "cell_type": "code",
   "execution_count": 31,
   "outputs": [],
   "source": [
    "visible_app = sheet1.book.app\n",
    "invisible_app = xw.App(visible=False)"
   ],
   "metadata": {
    "collapsed": false,
    "ExecuteTime": {
     "end_time": "2024-03-30T15:27:17.012703800Z",
     "start_time": "2024-03-30T15:27:15.881329800Z"
    }
   },
   "id": "5783f61d075aea3e"
  },
  {
   "cell_type": "code",
   "execution_count": 32,
   "outputs": [
    {
     "data": {
      "text/plain": "['工作簿6', 'invisible.xlsx', '工作簿7', '工作簿8', '工作簿9']"
     },
     "execution_count": 32,
     "metadata": {},
     "output_type": "execute_result"
    }
   ],
   "source": [
    "[book.name for book in visible_app.books]"
   ],
   "metadata": {
    "collapsed": false,
    "ExecuteTime": {
     "end_time": "2024-03-30T15:27:17.014090200Z",
     "start_time": "2024-03-30T15:27:16.988410100Z"
    }
   },
   "id": "49b03b21adbda04d"
  },
  {
   "cell_type": "code",
   "execution_count": 33,
   "outputs": [
    {
     "data": {
      "text/plain": "['工作簿10']"
     },
     "execution_count": 33,
     "metadata": {},
     "output_type": "execute_result"
    }
   ],
   "source": [
    "[book.name for book in invisible_app.books]"
   ],
   "metadata": {
    "collapsed": false,
    "ExecuteTime": {
     "end_time": "2024-03-30T15:27:17.014090200Z",
     "start_time": "2024-03-30T15:27:17.001011900Z"
    }
   },
   "id": "8dba8ffa303c3063"
  },
  {
   "cell_type": "code",
   "execution_count": 34,
   "outputs": [
    {
     "data": {
      "text/plain": "[24440, 14288, 2140, 16252, 21540]"
     },
     "execution_count": 34,
     "metadata": {},
     "output_type": "execute_result"
    }
   ],
   "source": [
    "xw.apps.keys()"
   ],
   "metadata": {
    "collapsed": false,
    "ExecuteTime": {
     "end_time": "2024-03-30T15:27:17.059373100Z",
     "start_time": "2024-03-30T15:27:17.014090200Z"
    }
   },
   "id": "a47ed044feddaace"
  },
  {
   "cell_type": "code",
   "execution_count": 35,
   "outputs": [
    {
     "data": {
      "text/plain": "24440"
     },
     "execution_count": 35,
     "metadata": {},
     "output_type": "execute_result"
    }
   ],
   "source": [
    "xw.apps.active.pid"
   ],
   "metadata": {
    "collapsed": false,
    "ExecuteTime": {
     "end_time": "2024-03-30T15:27:17.060495200Z",
     "start_time": "2024-03-30T15:27:17.024569400Z"
    }
   },
   "id": "11afbe58b49b44c3"
  },
  {
   "cell_type": "code",
   "execution_count": 36,
   "outputs": [
    {
     "ename": "com_error",
     "evalue": "(-2147352567, '发生意外。', (0, 'Microsoft Excel', '不能访问“invisible.xlsx”。', 'xlmain11.chm', 0, -2146827284), None)",
     "output_type": "error",
     "traceback": [
      "\u001B[1;31m---------------------------------------------------------------------------\u001B[0m",
      "\u001B[1;31mcom_error\u001B[0m                                 Traceback (most recent call last)",
      "\u001B[1;32m~\\AppData\\Local\\Temp\\ipykernel_34948\\2772330750.py\u001B[0m in \u001B[0;36m?\u001B[1;34m()\u001B[0m\n\u001B[0;32m      1\u001B[0m \u001B[0minvisible_book\u001B[0m \u001B[1;33m=\u001B[0m \u001B[0minvisible_app\u001B[0m\u001B[1;33m.\u001B[0m\u001B[0mbooks\u001B[0m\u001B[1;33m[\u001B[0m\u001B[1;36m0\u001B[0m\u001B[1;33m]\u001B[0m\u001B[1;33m\u001B[0m\u001B[1;33m\u001B[0m\u001B[0m\n\u001B[0;32m      2\u001B[0m \u001B[0minvisible_book\u001B[0m\u001B[1;33m.\u001B[0m\u001B[0msheets\u001B[0m\u001B[1;33m[\u001B[0m\u001B[1;36m0\u001B[0m\u001B[1;33m]\u001B[0m\u001B[1;33m[\u001B[0m\u001B[1;34m\"A1\"\u001B[0m\u001B[1;33m]\u001B[0m\u001B[1;33m.\u001B[0m\u001B[0mvalue\u001B[0m \u001B[1;33m=\u001B[0m \u001B[1;34m\"Created by an invisible app.\"\u001B[0m\u001B[1;33m\u001B[0m\u001B[1;33m\u001B[0m\u001B[0m\n\u001B[1;32m----> 3\u001B[1;33m \u001B[0minvisible_book\u001B[0m\u001B[1;33m.\u001B[0m\u001B[0msave\u001B[0m\u001B[1;33m(\u001B[0m\u001B[1;34m\"invisible.xlsx\"\u001B[0m\u001B[1;33m)\u001B[0m\u001B[1;33m\u001B[0m\u001B[1;33m\u001B[0m\u001B[0m\n\u001B[0m\u001B[0;32m      4\u001B[0m \u001B[0minvisible_app\u001B[0m\u001B[1;33m.\u001B[0m\u001B[0mquit\u001B[0m\u001B[1;33m(\u001B[0m\u001B[1;33m)\u001B[0m\u001B[1;33m\u001B[0m\u001B[1;33m\u001B[0m\u001B[0m\n",
      "\u001B[1;32mD:\\Users\\wzw94\\anaconda3\\Lib\\site-packages\\xlwings\\main.py\u001B[0m in \u001B[0;36m?\u001B[1;34m(self, path, password)\u001B[0m\n\u001B[0;32m   1143\u001B[0m         \"\"\"\n\u001B[0;32m   1144\u001B[0m         \u001B[1;32mif\u001B[0m \u001B[0mpath\u001B[0m\u001B[1;33m:\u001B[0m\u001B[1;33m\u001B[0m\u001B[1;33m\u001B[0m\u001B[0m\n\u001B[0;32m   1145\u001B[0m             \u001B[0mpath\u001B[0m \u001B[1;33m=\u001B[0m \u001B[0mutils\u001B[0m\u001B[1;33m.\u001B[0m\u001B[0mfspath\u001B[0m\u001B[1;33m(\u001B[0m\u001B[0mpath\u001B[0m\u001B[1;33m)\u001B[0m\u001B[1;33m\u001B[0m\u001B[1;33m\u001B[0m\u001B[0m\n\u001B[0;32m   1146\u001B[0m         \u001B[1;32mwith\u001B[0m \u001B[0mself\u001B[0m\u001B[1;33m.\u001B[0m\u001B[0mapp\u001B[0m\u001B[1;33m.\u001B[0m\u001B[0mproperties\u001B[0m\u001B[1;33m(\u001B[0m\u001B[0mdisplay_alerts\u001B[0m\u001B[1;33m=\u001B[0m\u001B[1;32mFalse\u001B[0m\u001B[1;33m)\u001B[0m\u001B[1;33m:\u001B[0m\u001B[1;33m\u001B[0m\u001B[1;33m\u001B[0m\u001B[0m\n\u001B[1;32m-> 1147\u001B[1;33m             \u001B[0mself\u001B[0m\u001B[1;33m.\u001B[0m\u001B[0mimpl\u001B[0m\u001B[1;33m.\u001B[0m\u001B[0msave\u001B[0m\u001B[1;33m(\u001B[0m\u001B[0mpath\u001B[0m\u001B[1;33m,\u001B[0m \u001B[0mpassword\u001B[0m\u001B[1;33m=\u001B[0m\u001B[0mpassword\u001B[0m\u001B[1;33m)\u001B[0m\u001B[1;33m\u001B[0m\u001B[1;33m\u001B[0m\u001B[0m\n\u001B[0m",
      "\u001B[1;32mD:\\Users\\wzw94\\anaconda3\\Lib\\site-packages\\xlwings\\_xlwindows.py\u001B[0m in \u001B[0;36m?\u001B[1;34m(self, path, password)\u001B[0m\n\u001B[0;32m    842\u001B[0m         \u001B[1;32melif\u001B[0m \u001B[0mpath\u001B[0m\u001B[1;33m:\u001B[0m\u001B[1;33m\u001B[0m\u001B[1;33m\u001B[0m\u001B[0m\n\u001B[0;32m    843\u001B[0m             \u001B[1;31m# Save under new name/location\u001B[0m\u001B[1;33m\u001B[0m\u001B[1;33m\u001B[0m\u001B[0m\n\u001B[0;32m    844\u001B[0m             \u001B[0malerts_state\u001B[0m \u001B[1;33m=\u001B[0m \u001B[0mself\u001B[0m\u001B[1;33m.\u001B[0m\u001B[0mxl\u001B[0m\u001B[1;33m.\u001B[0m\u001B[0mApplication\u001B[0m\u001B[1;33m.\u001B[0m\u001B[0mDisplayAlerts\u001B[0m\u001B[1;33m\u001B[0m\u001B[1;33m\u001B[0m\u001B[0m\n\u001B[0;32m    845\u001B[0m             \u001B[0mself\u001B[0m\u001B[1;33m.\u001B[0m\u001B[0mxl\u001B[0m\u001B[1;33m.\u001B[0m\u001B[0mApplication\u001B[0m\u001B[1;33m.\u001B[0m\u001B[0mDisplayAlerts\u001B[0m \u001B[1;33m=\u001B[0m \u001B[1;32mFalse\u001B[0m\u001B[1;33m\u001B[0m\u001B[1;33m\u001B[0m\u001B[0m\n\u001B[1;32m--> 846\u001B[1;33m             self.xl.SaveAs(\n\u001B[0m\u001B[0;32m    847\u001B[0m                 \u001B[0mos\u001B[0m\u001B[1;33m.\u001B[0m\u001B[0mpath\u001B[0m\u001B[1;33m.\u001B[0m\u001B[0mrealpath\u001B[0m\u001B[1;33m(\u001B[0m\u001B[0mpath\u001B[0m\u001B[1;33m)\u001B[0m\u001B[1;33m,\u001B[0m \u001B[0mFileFormat\u001B[0m\u001B[1;33m=\u001B[0m\u001B[0mfile_format\u001B[0m\u001B[1;33m,\u001B[0m \u001B[0mPassword\u001B[0m\u001B[1;33m=\u001B[0m\u001B[0mpassword\u001B[0m\u001B[1;33m\u001B[0m\u001B[1;33m\u001B[0m\u001B[0m\n\u001B[0;32m    848\u001B[0m             )\n\u001B[0;32m    849\u001B[0m             \u001B[0mself\u001B[0m\u001B[1;33m.\u001B[0m\u001B[0mxl\u001B[0m\u001B[1;33m.\u001B[0m\u001B[0mApplication\u001B[0m\u001B[1;33m.\u001B[0m\u001B[0mDisplayAlerts\u001B[0m \u001B[1;33m=\u001B[0m \u001B[0malerts_state\u001B[0m\u001B[1;33m\u001B[0m\u001B[1;33m\u001B[0m\u001B[0m\n",
      "\u001B[1;32mD:\\Users\\wzw94\\anaconda3\\Lib\\site-packages\\xlwings\\_xlwindows.py\u001B[0m in \u001B[0;36m?\u001B[1;34m(self, *args, **kwargs)\u001B[0m\n\u001B[0;32m    119\u001B[0m                 ) and e.hresult == -2147418111:\n\u001B[0;32m    120\u001B[0m                     \u001B[0mn_attempt\u001B[0m \u001B[1;33m+=\u001B[0m \u001B[1;36m1\u001B[0m\u001B[1;33m\u001B[0m\u001B[1;33m\u001B[0m\u001B[0m\n\u001B[0;32m    121\u001B[0m                     \u001B[1;32mcontinue\u001B[0m\u001B[1;33m\u001B[0m\u001B[1;33m\u001B[0m\u001B[0m\n\u001B[0;32m    122\u001B[0m                 \u001B[1;32melse\u001B[0m\u001B[1;33m:\u001B[0m\u001B[1;33m\u001B[0m\u001B[1;33m\u001B[0m\u001B[0m\n\u001B[1;32m--> 123\u001B[1;33m                     \u001B[1;32mraise\u001B[0m\u001B[1;33m\u001B[0m\u001B[1;33m\u001B[0m\u001B[0m\n\u001B[0m\u001B[0;32m    124\u001B[0m             \u001B[1;32mexcept\u001B[0m \u001B[0mAttributeError\u001B[0m\u001B[1;33m:\u001B[0m\u001B[1;33m\u001B[0m\u001B[1;33m\u001B[0m\u001B[0m\n\u001B[0;32m    125\u001B[0m                 \u001B[1;32mif\u001B[0m \u001B[1;32mnot\u001B[0m \u001B[0mN_COM_ATTEMPTS\u001B[0m \u001B[1;32mor\u001B[0m \u001B[0mn_attempt\u001B[0m \u001B[1;33m<\u001B[0m \u001B[0mN_COM_ATTEMPTS\u001B[0m\u001B[1;33m:\u001B[0m\u001B[1;33m\u001B[0m\u001B[1;33m\u001B[0m\u001B[0m\n\u001B[0;32m    126\u001B[0m                     \u001B[0mn_attempt\u001B[0m \u001B[1;33m+=\u001B[0m \u001B[1;36m1\u001B[0m\u001B[1;33m\u001B[0m\u001B[1;33m\u001B[0m\u001B[0m\n",
      "\u001B[1;32mD:\\Users\\wzw94\\anaconda3\\Lib\\site-packages\\win32com\\gen_py\\00020813-0000-0000-C000-000000000046x0x1x9.py\u001B[0m in \u001B[0;36m?\u001B[1;34m(self, Filename, FileFormat, Password, WriteResPassword, ReadOnlyRecommended, CreateBackup, AccessMode, ConflictResolution, AddToMru, TextCodepage, TextVisualLayout, Local, WorkIdentity)\u001B[0m\n\u001B[0;32m  46882\u001B[0m \tdef SaveAs(self, Filename=defaultNamedNotOptArg, FileFormat=defaultNamedNotOptArg, Password=defaultNamedNotOptArg, WriteResPassword=defaultNamedNotOptArg\n\u001B[0;32m  46883\u001B[0m                         \u001B[1;33m,\u001B[0m \u001B[0mReadOnlyRecommended\u001B[0m\u001B[1;33m=\u001B[0m\u001B[0mdefaultNamedNotOptArg\u001B[0m\u001B[1;33m,\u001B[0m \u001B[0mCreateBackup\u001B[0m\u001B[1;33m=\u001B[0m\u001B[0mdefaultNamedNotOptArg\u001B[0m\u001B[1;33m,\u001B[0m \u001B[0mAccessMode\u001B[0m\u001B[1;33m=\u001B[0m\u001B[1;36m1\u001B[0m\u001B[1;33m,\u001B[0m \u001B[0mConflictResolution\u001B[0m\u001B[1;33m=\u001B[0m\u001B[0mdefaultNamedOptArg\u001B[0m\u001B[1;33m,\u001B[0m \u001B[0mAddToMru\u001B[0m\u001B[1;33m=\u001B[0m\u001B[0mdefaultNamedOptArg\u001B[0m\u001B[1;33m\u001B[0m\u001B[1;33m\u001B[0m\u001B[0m\n\u001B[0;32m  46884\u001B[0m \t\t\t, TextCodepage=defaultNamedOptArg, TextVisualLayout=defaultNamedOptArg, Local=defaultNamedOptArg, WorkIdentity=defaultNamedOptArg):\n\u001B[1;32m> 46885\u001B[1;33m \t\treturn self._oleobj_.InvokeTypes(3174, LCID, 1, (24, 0), ((12, 17), (12, 17), (12, 17), (12, 17), (12, 17), (12, 17), (3, 49), (12, 17), (12, 17), (12, 17), (12, 17), (12, 17), (12, 17)),Filename\n\u001B[0m\u001B[0;32m  46886\u001B[0m                         \u001B[1;33m,\u001B[0m \u001B[0mFileFormat\u001B[0m\u001B[1;33m,\u001B[0m \u001B[0mPassword\u001B[0m\u001B[1;33m,\u001B[0m \u001B[0mWriteResPassword\u001B[0m\u001B[1;33m,\u001B[0m \u001B[0mReadOnlyRecommended\u001B[0m\u001B[1;33m,\u001B[0m \u001B[0mCreateBackup\u001B[0m\u001B[1;33m\u001B[0m\u001B[1;33m\u001B[0m\u001B[0m\n\u001B[0;32m  46887\u001B[0m                         \u001B[1;33m,\u001B[0m \u001B[0mAccessMode\u001B[0m\u001B[1;33m,\u001B[0m \u001B[0mConflictResolution\u001B[0m\u001B[1;33m,\u001B[0m \u001B[0mAddToMru\u001B[0m\u001B[1;33m,\u001B[0m \u001B[0mTextCodepage\u001B[0m\u001B[1;33m,\u001B[0m \u001B[0mTextVisualLayout\u001B[0m\u001B[1;33m\u001B[0m\u001B[1;33m\u001B[0m\u001B[0m\n\u001B[0;32m  46888\u001B[0m \t\t\t, Local, WorkIdentity)\n",
      "\u001B[1;31mcom_error\u001B[0m: (-2147352567, '发生意外。', (0, 'Microsoft Excel', '不能访问“invisible.xlsx”。', 'xlmain11.chm', 0, -2146827284), None)"
     ]
    }
   ],
   "source": [
    "invisible_book = invisible_app.books[0]\n",
    "invisible_book.sheets[0][\"A1\"].value = \"Created by an invisible app.\"\n",
    "invisible_book.save(\"invisible.xlsx\")\n",
    "invisible_app.quit()"
   ],
   "metadata": {
    "collapsed": false,
    "ExecuteTime": {
     "end_time": "2024-03-30T15:27:17.208145900Z",
     "start_time": "2024-03-30T15:27:17.033605700Z"
    }
   },
   "id": "66186962aaf01bee"
  },
  {
   "cell_type": "markdown",
   "source": [
    "## Running VBA Code"
   ],
   "metadata": {
    "collapsed": false
   },
   "id": "6a64436d1ff193de"
  },
  {
   "cell_type": "code",
   "execution_count": 37,
   "outputs": [
    {
     "data": {
      "text/plain": "9.0"
     },
     "execution_count": 37,
     "metadata": {},
     "output_type": "execute_result"
    }
   ],
   "source": [
    "vba_book = xw.Book(r\"D:\\python\\python-for-excel-1st-edition\\python-for-excel-1st-edition\\xl\\vba.xlsm\")\n",
    "mysum = vba_book.macro(\"Module1.MySum\")\n",
    "mysum(5, 4)"
   ],
   "metadata": {
    "collapsed": false,
    "ExecuteTime": {
     "end_time": "2024-03-30T15:27:18.374297Z",
     "start_time": "2024-03-30T15:27:18.084922200Z"
    }
   },
   "id": "e8e1940302171d21"
  },
  {
   "cell_type": "code",
   "execution_count": 38,
   "outputs": [],
   "source": [
    "show_msgbox = vba_book.macro(\"Module1.ShowMsgBox\")\n",
    "show_msgbox(\"Hello xlwings!\")\n",
    "vba_book.close()"
   ],
   "metadata": {
    "collapsed": false,
    "ExecuteTime": {
     "end_time": "2024-03-30T15:27:33.535350500Z",
     "start_time": "2024-03-30T15:27:19.045321300Z"
    }
   },
   "id": "391c027d8ede7da5"
  },
  {
   "cell_type": "markdown",
   "source": [
    "## Use xlwings to deal with DataFrame/Numpy"
   ],
   "metadata": {
    "collapsed": false
   },
   "id": "45d65c7f8dc6f8f6"
  },
  {
   "cell_type": "code",
   "execution_count": 39,
   "outputs": [
    {
     "data": {
      "text/plain": "         name  age country  score continent\nuser_id                                    \n1001     Mark   55   Italy    4.5    Europe\n1000     John   33     USA    6.7   America",
      "text/html": "<div>\n<style scoped>\n    .dataframe tbody tr th:only-of-type {\n        vertical-align: middle;\n    }\n\n    .dataframe tbody tr th {\n        vertical-align: top;\n    }\n\n    .dataframe thead th {\n        text-align: right;\n    }\n</style>\n<table border=\"1\" class=\"dataframe\">\n  <thead>\n    <tr style=\"text-align: right;\">\n      <th></th>\n      <th>name</th>\n      <th>age</th>\n      <th>country</th>\n      <th>score</th>\n      <th>continent</th>\n    </tr>\n    <tr>\n      <th>user_id</th>\n      <th></th>\n      <th></th>\n      <th></th>\n      <th></th>\n      <th></th>\n    </tr>\n  </thead>\n  <tbody>\n    <tr>\n      <th>1001</th>\n      <td>Mark</td>\n      <td>55</td>\n      <td>Italy</td>\n      <td>4.5</td>\n      <td>Europe</td>\n    </tr>\n    <tr>\n      <th>1000</th>\n      <td>John</td>\n      <td>33</td>\n      <td>USA</td>\n      <td>6.7</td>\n      <td>America</td>\n    </tr>\n  </tbody>\n</table>\n</div>"
     },
     "execution_count": 39,
     "metadata": {},
     "output_type": "execute_result"
    }
   ],
   "source": [
    "data = [[\"Mark\", 55, \"Italy\", 4.5, \"Europe\"],\n",
    "        [\"John\", 33, \"USA\", 6.7, \"America\"]]\n",
    "df = pd.DataFrame(data=data,\n",
    "                  columns=[\"name\", \"age\", \"country\",\n",
    "                           \"score\", \"continent\"],\n",
    "                  index=[1001,1000])\n",
    "df.index.name = \"user_id\"\n",
    "df"
   ],
   "metadata": {
    "collapsed": false,
    "ExecuteTime": {
     "end_time": "2024-03-30T15:27:33.552090800Z",
     "start_time": "2024-03-30T15:27:33.539213400Z"
    }
   },
   "id": "dbdd9f952888a2b9"
  },
  {
   "cell_type": "code",
   "execution_count": 40,
   "outputs": [
    {
     "data": {
      "text/plain": "         name   age country  score continent\nuser_id                                     \n1001.0   Mark  55.0   Italy    4.5    Europe\n1000.0   John  33.0     USA    6.7   America",
      "text/html": "<div>\n<style scoped>\n    .dataframe tbody tr th:only-of-type {\n        vertical-align: middle;\n    }\n\n    .dataframe tbody tr th {\n        vertical-align: top;\n    }\n\n    .dataframe thead th {\n        text-align: right;\n    }\n</style>\n<table border=\"1\" class=\"dataframe\">\n  <thead>\n    <tr style=\"text-align: right;\">\n      <th></th>\n      <th>name</th>\n      <th>age</th>\n      <th>country</th>\n      <th>score</th>\n      <th>continent</th>\n    </tr>\n    <tr>\n      <th>user_id</th>\n      <th></th>\n      <th></th>\n      <th></th>\n      <th></th>\n      <th></th>\n    </tr>\n  </thead>\n  <tbody>\n    <tr>\n      <th>1001.0</th>\n      <td>Mark</td>\n      <td>55.0</td>\n      <td>Italy</td>\n      <td>4.5</td>\n      <td>Europe</td>\n    </tr>\n    <tr>\n      <th>1000.0</th>\n      <td>John</td>\n      <td>33.0</td>\n      <td>USA</td>\n      <td>6.7</td>\n      <td>America</td>\n    </tr>\n  </tbody>\n</table>\n</div>"
     },
     "execution_count": 40,
     "metadata": {},
     "output_type": "execute_result"
    }
   ],
   "source": [
    "app = xw.App(visible=False)\n",
    "wb = app.books.open(\"invisible.xlsx\")\n",
    "sheet1 = wb.sheets[\"Sheet1\"]\n",
    "df2 = sheet1[\"A6\"].expand().options(pd.DataFrame).value\n",
    "df2"
   ],
   "metadata": {
    "collapsed": false,
    "ExecuteTime": {
     "end_time": "2024-03-30T15:27:34.724540600Z",
     "start_time": "2024-03-30T15:27:33.546844900Z"
    }
   },
   "id": "82d3de50527fb50a"
  },
  {
   "cell_type": "code",
   "execution_count": 41,
   "outputs": [
    {
     "data": {
      "text/plain": "         name   age country  score continent\nuser_id                                     \n1001     Mark  55.0   Italy    4.5    Europe\n1000     John  33.0     USA    6.7   America",
      "text/html": "<div>\n<style scoped>\n    .dataframe tbody tr th:only-of-type {\n        vertical-align: middle;\n    }\n\n    .dataframe tbody tr th {\n        vertical-align: top;\n    }\n\n    .dataframe thead th {\n        text-align: right;\n    }\n</style>\n<table border=\"1\" class=\"dataframe\">\n  <thead>\n    <tr style=\"text-align: right;\">\n      <th></th>\n      <th>name</th>\n      <th>age</th>\n      <th>country</th>\n      <th>score</th>\n      <th>continent</th>\n    </tr>\n    <tr>\n      <th>user_id</th>\n      <th></th>\n      <th></th>\n      <th></th>\n      <th></th>\n      <th></th>\n    </tr>\n  </thead>\n  <tbody>\n    <tr>\n      <th>1001</th>\n      <td>Mark</td>\n      <td>55.0</td>\n      <td>Italy</td>\n      <td>4.5</td>\n      <td>Europe</td>\n    </tr>\n    <tr>\n      <th>1000</th>\n      <td>John</td>\n      <td>33.0</td>\n      <td>USA</td>\n      <td>6.7</td>\n      <td>America</td>\n    </tr>\n  </tbody>\n</table>\n</div>"
     },
     "execution_count": 41,
     "metadata": {},
     "output_type": "execute_result"
    }
   ],
   "source": [
    "df2.index = df2.index.astype(int)\n",
    "df2"
   ],
   "metadata": {
    "collapsed": false,
    "ExecuteTime": {
     "end_time": "2024-03-30T15:27:34.728174Z",
     "start_time": "2024-03-30T15:27:34.723035700Z"
    }
   },
   "id": "faa687638215f5bf"
  },
  {
   "cell_type": "code",
   "execution_count": 42,
   "outputs": [
    {
     "data": {
      "text/plain": "   user_id  name   age country  score continent\n0   1001.0  Mark  55.0   Italy    4.5    Europe\n1   1000.0  John  33.0     USA    6.7   America",
      "text/html": "<div>\n<style scoped>\n    .dataframe tbody tr th:only-of-type {\n        vertical-align: middle;\n    }\n\n    .dataframe tbody tr th {\n        vertical-align: top;\n    }\n\n    .dataframe thead th {\n        text-align: right;\n    }\n</style>\n<table border=\"1\" class=\"dataframe\">\n  <thead>\n    <tr style=\"text-align: right;\">\n      <th></th>\n      <th>user_id</th>\n      <th>name</th>\n      <th>age</th>\n      <th>country</th>\n      <th>score</th>\n      <th>continent</th>\n    </tr>\n  </thead>\n  <tbody>\n    <tr>\n      <th>0</th>\n      <td>1001.0</td>\n      <td>Mark</td>\n      <td>55.0</td>\n      <td>Italy</td>\n      <td>4.5</td>\n      <td>Europe</td>\n    </tr>\n    <tr>\n      <th>1</th>\n      <td>1000.0</td>\n      <td>John</td>\n      <td>33.0</td>\n      <td>USA</td>\n      <td>6.7</td>\n      <td>America</td>\n    </tr>\n  </tbody>\n</table>\n</div>"
     },
     "execution_count": 42,
     "metadata": {},
     "output_type": "execute_result"
    }
   ],
   "source": [
    "sheet1[\"A6\"].expand().options(pd.DataFrame, index=False).value"
   ],
   "metadata": {
    "collapsed": false,
    "ExecuteTime": {
     "end_time": "2024-03-30T15:27:34.819528700Z",
     "start_time": "2024-03-30T15:27:34.728174Z"
    }
   },
   "id": "3f8759ec5f4af2ba"
  },
  {
   "cell_type": "code",
   "execution_count": 43,
   "outputs": [
    {
     "data": {
      "text/plain": "array([['user_id', 'name', 'age', 'country', 'score', 'continent'],\n       ['1001.0', 'Mark', '55.0', 'Italy', '4.5', 'Europe'],\n       ['1000.0', 'John', '33.0', 'USA', '6.7', 'America']], dtype='<U32')"
     },
     "execution_count": 43,
     "metadata": {},
     "output_type": "execute_result"
    }
   ],
   "source": [
    "sheet1[\"A6\"].expand().options(np.array).value"
   ],
   "metadata": {
    "collapsed": false,
    "ExecuteTime": {
     "end_time": "2024-03-30T15:27:34.909142Z",
     "start_time": "2024-03-30T15:27:34.770015600Z"
    }
   },
   "id": "e7f63cfdcc7e4afd"
  },
  {
   "cell_type": "code",
   "execution_count": 44,
   "outputs": [
    {
     "data": {
      "text/plain": "[['Created by an invisible app.', None]]"
     },
     "execution_count": 44,
     "metadata": {},
     "output_type": "execute_result"
    }
   ],
   "source": [
    "sheet1[\"A1:B1\"].options(ndim=2).value"
   ],
   "metadata": {
    "collapsed": false,
    "ExecuteTime": {
     "end_time": "2024-03-30T15:27:35.001719700Z",
     "start_time": "2024-03-30T15:27:34.795652800Z"
    }
   },
   "id": "1795defeaa4db0de"
  },
  {
   "cell_type": "code",
   "execution_count": 45,
   "outputs": [
    {
     "data": {
      "text/plain": "[datetime.datetime(2020, 1, 1, 0, 0), None, 1.0]"
     },
     "execution_count": 45,
     "metadata": {},
     "output_type": "execute_result"
    }
   ],
   "source": [
    "sheet1[\"A13\"].value = [dt.datetime(2020, 1, 1), None, 1.0]\n",
    "sheet1[\"A13:C13\"].value"
   ],
   "metadata": {
    "collapsed": false,
    "ExecuteTime": {
     "end_time": "2024-03-30T15:27:35.191625400Z",
     "start_time": "2024-03-30T15:27:34.811795300Z"
    }
   },
   "id": "65d985116cf8558a"
  },
  {
   "cell_type": "code",
   "execution_count": 46,
   "outputs": [
    {
     "data": {
      "text/plain": "[datetime.date(2020, 1, 1), 'NA', 1]"
     },
     "execution_count": 46,
     "metadata": {},
     "output_type": "execute_result"
    }
   ],
   "source": [
    "sheet1[\"A13:C13\"].options(empty=\"NA\",\n",
    "                      dates=dt.date,\n",
    "                      numbers=int).value"
   ],
   "metadata": {
    "collapsed": false,
    "ExecuteTime": {
     "end_time": "2024-03-30T15:27:35.191625400Z",
     "start_time": "2024-03-30T15:27:34.875092600Z"
    }
   },
   "id": "130802061c56b343"
  },
  {
   "cell_type": "markdown",
   "source": [
    "## Use xlwings to generate Graphs and Charts"
   ],
   "metadata": {
    "collapsed": false
   },
   "id": "e2041f88431ef866"
  },
  {
   "cell_type": "code",
   "execution_count": 47,
   "outputs": [
    {
     "data": {
      "text/plain": "           North  South\nLast Year    2.0    5.0\nThis Year    3.0    6.0",
      "text/html": "<div>\n<style scoped>\n    .dataframe tbody tr th:only-of-type {\n        vertical-align: middle;\n    }\n\n    .dataframe tbody tr th {\n        vertical-align: top;\n    }\n\n    .dataframe thead th {\n        text-align: right;\n    }\n</style>\n<table border=\"1\" class=\"dataframe\">\n  <thead>\n    <tr style=\"text-align: right;\">\n      <th></th>\n      <th>North</th>\n      <th>South</th>\n    </tr>\n  </thead>\n  <tbody>\n    <tr>\n      <th>Last Year</th>\n      <td>2.0</td>\n      <td>5.0</td>\n    </tr>\n    <tr>\n      <th>This Year</th>\n      <td>3.0</td>\n      <td>6.0</td>\n    </tr>\n  </tbody>\n</table>\n</div>"
     },
     "execution_count": 47,
     "metadata": {},
     "output_type": "execute_result"
    }
   ],
   "source": [
    "# create a excel graph\n",
    "sheet1[\"A15\"].value = [[None, \"North\", \"South\"],\n",
    "                       [\"Last Year\", 2, 5],\n",
    "                       [\"This Year\", 3, 6]]\n",
    "chart = sheet1.charts.add(top=sheet1[\"A19\"].top,\n",
    "                          left=sheet1[\"A19\"].left)\n",
    "chart.chart_type = \"column_clustered\"\n",
    "chart.set_source_data(sheet1[\"A15\"].expand())\n",
    "#loading chart data as dataframe\n",
    "df = sheet1[\"A15\"].expand().options(pd.DataFrame).value\n",
    "df"
   ],
   "metadata": {
    "collapsed": false,
    "ExecuteTime": {
     "end_time": "2024-03-30T15:27:35.361304500Z",
     "start_time": "2024-03-30T15:27:34.885769Z"
    }
   },
   "id": "cf42a2cc49fe4195"
  },
  {
   "cell_type": "code",
   "execution_count": 48,
   "outputs": [],
   "source": [
    "# initiating matplotlib\n",
    "%matplotlib inline\n",
    "import matplotlib.pyplot as plt\n",
    "import seaborn as sns\n",
    "sns.set()"
   ],
   "metadata": {
    "collapsed": false,
    "ExecuteTime": {
     "end_time": "2024-03-30T15:27:35.361304500Z",
     "start_time": "2024-03-30T15:27:35.212231600Z"
    }
   },
   "id": "30565d8267320746"
  },
  {
   "cell_type": "code",
   "execution_count": 49,
   "outputs": [],
   "source": [
    "sns.set_style(\"darkgrid\")"
   ],
   "metadata": {
    "collapsed": false,
    "ExecuteTime": {
     "end_time": "2024-03-30T15:27:35.361304500Z",
     "start_time": "2024-03-30T15:27:35.223366Z"
    }
   },
   "id": "31debeefb9e12f48"
  },
  {
   "cell_type": "code",
   "execution_count": 50,
   "outputs": [
    {
     "data": {
      "text/plain": "<Figure size 640x480 with 1 Axes>",
      "image/png": "[encoded data removed]"
     },
     "metadata": {},
     "output_type": "display_data"
    }
   ],
   "source": [
    "ax = df.T.plot.bar()\n",
    "fig = ax.get_figure()"
   ],
   "metadata": {
    "collapsed": false,
    "ExecuteTime": {
     "end_time": "2024-03-30T15:27:35.562903100Z",
     "start_time": "2024-03-30T15:27:35.225684Z"
    }
   },
   "id": "4d89b96ff799c34f"
  },
  {
   "cell_type": "code",
   "execution_count": 51,
   "outputs": [],
   "source": [
    "# send the pics to excel\n",
    "plot = sheet1.pictures.add(fig, name=\"SalesPlot\", \n",
    "                           top=sheet1[\"H19\"].top,\n",
    "                           left=sheet1[\"H19\"].left)\n",
    "plot.width, plot.height = plot.width * 0.7, plot.height * 0.7"
   ],
   "metadata": {
    "collapsed": false,
    "ExecuteTime": {
     "end_time": "2024-03-30T15:27:35.750114200Z",
     "start_time": "2024-03-30T15:27:35.373990600Z"
    }
   },
   "id": "a534929312fd6c7a"
  },
  {
   "cell_type": "code",
   "execution_count": 52,
   "outputs": [],
   "source": [
    "ax = (df + 1).T.plot.bar()\n",
    "plot = plot.update(ax.get_figure())"
   ],
   "metadata": {
    "collapsed": false,
    "ExecuteTime": {
     "end_time": "2024-03-30T15:28:31.579012900Z",
     "start_time": "2024-03-30T15:28:31.401195100Z"
    }
   },
   "id": "2f35d3b4e89b6485"
  },
  {
   "cell_type": "code",
   "execution_count": 53,
   "outputs": [
    {
     "name": "stdout",
     "output_type": "stream",
     "text": [
      "Requirement already satisfied: pillow in d:\\users\\wzw94\\anaconda3\\lib\\site-packages (10.2.0)\n",
      "Note: you may need to restart the kernel to use updated packages.\n"
     ]
    }
   ],
   "source": [
    "pip install pillow"
   ],
   "metadata": {
    "collapsed": false,
    "ExecuteTime": {
     "end_time": "2024-03-30T15:29:30.044220700Z",
     "start_time": "2024-03-30T15:29:25.034861100Z"
    }
   },
   "id": "a8e1bd156360adaf"
  },
  {
   "cell_type": "code",
   "execution_count": null,
   "outputs": [],
   "source": [],
   "metadata": {
    "collapsed": false
   },
   "id": "a490b479951cfdcc"
  }
 ],
 "metadata": {
  "kernelspec": {
   "display_name": "Python 3",
   "language": "python",
   "name": "python3"
  },
  "language_info": {
   "codemirror_mode": {
    "name": "ipython",
    "version": 2
   },
   "file_extension": ".py",
   "mimetype": "text/x-python",
   "name": "python",
   "nbconvert_exporter": "python",
   "pygments_lexer": "ipython2",
   "version": "2.7.6"
  }
 },
 "nbformat": 4,
 "nbformat_minor": 5
}
